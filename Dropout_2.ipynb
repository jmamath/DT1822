{
  "nbformat": 4,
  "nbformat_minor": 0,
  "metadata": {
    "colab": {
      "name": "Dropout_2.ipynb",
      "version": "0.3.2",
      "provenance": [],
      "collapsed_sections": []
    },
    "kernelspec": {
      "name": "python3",
      "display_name": "Python 3"
    },
    "accelerator": "GPU"
  },
  "cells": [
    {
      "cell_type": "markdown",
      "metadata": {
        "id": "KXlIIT4ztyJy",
        "colab_type": "text"
      },
      "source": [
        "#Downloading required packages\n"
      ]
    },
    {
      "cell_type": "code",
      "metadata": {
        "id": "whIh1O7Lq6-2",
        "colab_type": "code",
        "outputId": "1914d247-bfec-4300-84c9-1ee26c06501a",
        "colab": {
          "base_uri": "https://localhost:8080/",
          "height": 555
        }
      },
      "source": [
        "!pip install gpyopt\n",
        "!pip install pycuda\n",
        "!pip install pyro-ppl==0.3.2"
      ],
      "execution_count": 0,
      "outputs": [
        {
          "output_type": "stream",
          "text": [
            "Requirement already satisfied: gpyopt in /usr/local/lib/python3.6/dist-packages (1.2.5)\n",
            "Requirement already satisfied: numpy>=1.7 in /usr/local/lib/python3.6/dist-packages (from gpyopt) (1.16.4)\n",
            "Requirement already satisfied: GPy>=1.8 in /usr/local/lib/python3.6/dist-packages (from gpyopt) (1.9.8)\n",
            "Requirement already satisfied: scipy>=0.16 in /usr/local/lib/python3.6/dist-packages (from gpyopt) (1.3.0)\n",
            "Requirement already satisfied: paramz>=0.9.0 in /usr/local/lib/python3.6/dist-packages (from GPy>=1.8->gpyopt) (0.9.5)\n",
            "Requirement already satisfied: six in /usr/local/lib/python3.6/dist-packages (from GPy>=1.8->gpyopt) (1.12.0)\n",
            "Requirement already satisfied: decorator>=4.0.10 in /usr/local/lib/python3.6/dist-packages (from paramz>=0.9.0->GPy>=1.8->gpyopt) (4.4.0)\n",
            "Requirement already satisfied: pycuda in /usr/local/lib/python3.6/dist-packages (2019.1.1)\n",
            "Requirement already satisfied: mako in /usr/local/lib/python3.6/dist-packages (from pycuda) (1.0.13)\n",
            "Requirement already satisfied: appdirs>=1.4.0 in /usr/local/lib/python3.6/dist-packages (from pycuda) (1.4.3)\n",
            "Requirement already satisfied: pytest>=2 in /usr/local/lib/python3.6/dist-packages (from pycuda) (3.6.4)\n",
            "Requirement already satisfied: pytools>=2011.2 in /usr/local/lib/python3.6/dist-packages (from pycuda) (2019.1.1)\n",
            "Requirement already satisfied: decorator>=3.2.0 in /usr/local/lib/python3.6/dist-packages (from pycuda) (4.4.0)\n",
            "Requirement already satisfied: MarkupSafe>=0.9.2 in /usr/local/lib/python3.6/dist-packages (from mako->pycuda) (1.1.1)\n",
            "Requirement already satisfied: atomicwrites>=1.0 in /usr/local/lib/python3.6/dist-packages (from pytest>=2->pycuda) (1.3.0)\n",
            "Requirement already satisfied: attrs>=17.4.0 in /usr/local/lib/python3.6/dist-packages (from pytest>=2->pycuda) (19.1.0)\n",
            "Requirement already satisfied: setuptools in /usr/local/lib/python3.6/dist-packages (from pytest>=2->pycuda) (41.0.1)\n",
            "Requirement already satisfied: more-itertools>=4.0.0 in /usr/local/lib/python3.6/dist-packages (from pytest>=2->pycuda) (7.1.0)\n",
            "Requirement already satisfied: six>=1.10.0 in /usr/local/lib/python3.6/dist-packages (from pytest>=2->pycuda) (1.12.0)\n",
            "Requirement already satisfied: py>=1.5.0 in /usr/local/lib/python3.6/dist-packages (from pytest>=2->pycuda) (1.8.0)\n",
            "Requirement already satisfied: pluggy<0.8,>=0.5 in /usr/local/lib/python3.6/dist-packages (from pytest>=2->pycuda) (0.7.1)\n",
            "Requirement already satisfied: numpy>=1.6.0 in /usr/local/lib/python3.6/dist-packages (from pytools>=2011.2->pycuda) (1.16.4)\n",
            "Requirement already satisfied: pyro-ppl==0.3.2 in /usr/local/lib/python3.6/dist-packages (0.3.2)\n",
            "Requirement already satisfied: graphviz>=0.8 in /usr/local/lib/python3.6/dist-packages (from pyro-ppl==0.3.2) (0.10.1)\n",
            "Requirement already satisfied: numpy>=1.7 in /usr/local/lib/python3.6/dist-packages (from pyro-ppl==0.3.2) (1.16.4)\n",
            "Requirement already satisfied: six>=1.10.0 in /usr/local/lib/python3.6/dist-packages (from pyro-ppl==0.3.2) (1.12.0)\n",
            "Requirement already satisfied: torch>=1.0.1 in /usr/local/lib/python3.6/dist-packages (from pyro-ppl==0.3.2) (1.1.0)\n",
            "Requirement already satisfied: contextlib2 in /usr/local/lib/python3.6/dist-packages (from pyro-ppl==0.3.2) (0.5.5)\n",
            "Requirement already satisfied: tqdm>=4.28 in /usr/local/lib/python3.6/dist-packages (from pyro-ppl==0.3.2) (4.28.1)\n",
            "Requirement already satisfied: opt-einsum>=2.3.2 in /usr/local/lib/python3.6/dist-packages (from pyro-ppl==0.3.2) (2.3.2)\n"
          ],
          "name": "stdout"
        }
      ]
    },
    {
      "cell_type": "markdown",
      "metadata": {
        "id": "rnV_VN66t-R9",
        "colab_type": "text"
      },
      "source": [
        "#Loading libraries\n"
      ]
    },
    {
      "cell_type": "code",
      "metadata": {
        "id": "uKCgOxzwq-OC",
        "colab_type": "code",
        "colab": {}
      },
      "source": [
        "import pandas as pd\n",
        "import torch\n",
        "import torch.nn as nn\n",
        "import numpy as np\n",
        "import matplotlib.pyplot as plt\n",
        "import torch.optim as optim\n",
        "from torch.distributions import  Bernoulli\n",
        "from functools import partial\n",
        "from sklearn.model_selection import train_test_split\n",
        "import torch.nn.functional as F\n",
        "import fileinput\n",
        "import requests\n",
        "import GPyOpt\n",
        "import pycuda.driver as cuda\n",
        "cuda.init()"
      ],
      "execution_count": 0,
      "outputs": []
    },
    {
      "cell_type": "markdown",
      "metadata": {
        "id": "KGjVuDpzuFB3",
        "colab_type": "text"
      },
      "source": [
        "#Loading data\n",
        "\n",
        "This is mostly boiler plate code, except for the boston and yacht datasets, every data is read directly from the source on github. For the case of boston and yacht datasets, we download them locally to fix some issues concerning the separator between each columns.\n",
        "\n",
        "Each dataset call is then associated to a function."
      ]
    },
    {
      "cell_type": "code",
      "metadata": {
        "id": "yangzjWtrGBR",
        "colab_type": "code",
        "colab": {}
      },
      "source": [
        "### Loading data \n",
        "\"\"\" \n",
        "This is mostly boiler plate code, except the boston and yacht datasets, every data is read directly from the \n",
        "source on github. For the case of boston and yacht datasets, we download them locally to fix some issues concerning\n",
        "the separator between each columns.\n",
        "\"\"\"\n",
        "boston_url = \"https://media.githubusercontent.com/media/probabilisticai/dt8122/master/datasets/boston_housing.txt\"\n",
        "concrete_url = \"https://media.githubusercontent.com/media/probabilisticai/dt8122/master/datasets/concrete.txt\"\n",
        "energy_url = \"https://media.githubusercontent.com/media/probabilisticai/dt8122/master/datasets/energy_heating_load.txt\"\n",
        "kin8_url = \"https://media.githubusercontent.com/media/probabilisticai/dt8122/master/datasets/kin8nm.txt\"\n",
        "naval_url = \"https://media.githubusercontent.com/media/probabilisticai/dt8122/master/datasets/naval_compressor_decay.txt\"\n",
        "power_url = \"https://media.githubusercontent.com/media/probabilisticai/dt8122/master/datasets/power.txt\"\n",
        "protein_url = \"https://media.githubusercontent.com/media/probabilisticai/dt8122/master/datasets/protein.txt\"\n",
        "wine_url = \"https://media.githubusercontent.com/media/probabilisticai/dt8122/master/datasets/wine.txt\"\n",
        "yacht_url = \"https://media.githubusercontent.com/media/probabilisticai/dt8122/master/datasets/yacht.txt\"\n",
        "year_prediction_url = \"https://media.githubusercontent.com/media/probabilisticai/dt8122/master/datasets/year_prediction_msd.txt\"\n",
        "\n",
        "\n",
        "def boston():\n",
        "  r = requests.get(boston_url)\n",
        "  with open('/content/boston.txt', 'wb') as f:  \n",
        "    f.write(r.content)\n",
        "  with fileinput.FileInput(\"boston.txt\", inplace=True, backup='.bak') as file:\n",
        "    for line in file:\n",
        "        print(line.replace(\"   \", \" \"), end='')\n",
        "  bos = [str(i) for i in range(14)]\n",
        "  boston = pd.read_csv('boston.txt', sep=\"  | \",names = bos, header=None)\n",
        "  print(\"Boston dataset - {} examples - 14 columns\".format(len(boston)))\n",
        "  print(\"Number of Nan :{}\".format(boston.isna().sum().sum())) \n",
        "  return boston, 14, \"Boston Housing\"\n",
        "\n",
        "def concrete():\n",
        "  conc = [str(i) for i in range(9)]\n",
        "  concrete = pd.read_csv(concrete_url, sep=\" |\\t\",names = conc, header=None)\n",
        "  print(\"Concrete dataset - {} examples - 9 columns\".format(len(concrete)))\n",
        "  print(\"Number of Nan :{}\".format(concrete.isna().sum().sum())) \n",
        "  return concrete, 9, \"Concrete Strength\"\n",
        "\n",
        "def energy():  \n",
        "  ener = [str(i) for i in range(9)]\n",
        "  energy = pd.read_csv(energy_url, sep=\" |\\t\",names = ener, header=None)\n",
        "  print(\"Energy dataset - {} examples - 9 columns\".format(len(energy)))\n",
        "  print(\"Number of Nan :{}\".format(energy.isna().sum().sum())) \n",
        "  return energy, 9, \"Energy Efficiency\"\n",
        "\n",
        "def kin8nm():\n",
        "  kin8 = [str(i) for i in range(9)]\n",
        "  kin8nm = pd.read_csv(kin8_url, sep=\"   |  \",names = kin8, header=None)\n",
        "  print(\"Kin8nm dataset - {} examples - 10 columns\".format(len(kin8nm)))\n",
        "  print(\"Number of Nan :{}\".format(kin8nm.isna().sum().sum())) \n",
        "  return kin8nm, 9, \"Kin8nm\"\n",
        "\n",
        "def naval():\n",
        "  nav = [str(i) for i in range(17)]\n",
        "  naval = pd.read_csv(naval_url, sep=\" |\\t\", names = nav, header=None)\n",
        "  print(\"Naval dataset - {} examples - 17 columns\".format(len(naval)))\n",
        "  print(\"Number of Nan :{}\".format(naval.isna().sum().sum())) \n",
        "  return naval, 17, \"Naval Propulsion\"\n",
        "\n",
        "def power():\n",
        "  pow = [str(i) for i in range(5)]\n",
        "  power = pd.read_csv(power_url, sep=\" |\\t\", names = pow, header=None)\n",
        "  print(\"Power dataset - {} examples - 5 columns\".format(len(power)))\n",
        "  print(\"Number of Nan :{}\".format(power.isna().sum().sum())) \n",
        "  return power, 5, \"Power Plant\"\n",
        "\n",
        "def protein():\n",
        "  prot = [str(i) for i in range(10)]\n",
        "  protein = pd.read_csv(protein_url, sep=\" |\\t\", names = prot, header=None)\n",
        "  print(\"Protein dataset - {} examples - 10 columns\".format(len(protein)))\n",
        "  print(\"Number of Nan :{}\".format(protein.isna().sum().sum())) \n",
        "  return protein, 10, \"Protein Structure\"\n",
        "\n",
        "def wine():\n",
        "  w = [str(i) for i in range(12)]\n",
        "  wine = pd.read_csv(wine_url, sep=\" |\\t\", names = w, header=None)\n",
        "  print(\"Wine dataset - {} examples - 12 columns\".format(len(wine)))\n",
        "  print(\"Number of Nan :{}\".format(wine.isna().sum().sum())) \n",
        "  return wine, 12, \"Wine Quality Red\"\n",
        "\n",
        "def yacht(): \n",
        "  r = requests.get(yacht_url)\n",
        "  with open('/content/yacht.txt', 'wb') as f:  \n",
        "      f.write(r.content) \n",
        "  with fileinput.FileInput(\"yacht.txt\", inplace=True, backup='.bak') as file:\n",
        "    for line in file:\n",
        "        print(line.replace(\"  \", \" \"), end='')\n",
        "  ya = [str(i) for i in range(7)]        \n",
        "  yacht = pd.read_csv('yacht.txt', sep=\" \", names = ya, header=None)\n",
        "  print(\"Yacht dataset - {} examples - 7 columns\".format(len(yacht)))\n",
        "  print(\"Number of Nan :{}\".format(yacht.isna().sum().sum())) \n",
        "  return yacht, 7, \"Yacht Hydrodynamics\"\n",
        "\n",
        "def year_prediction():\n",
        "  year = [str(i) for i in range(90)]\n",
        "  year_prediction = pd.read_csv(year_prediction_url, sep=\" \", names = year, header=None)\n",
        "  print(\"Year_prediction_msd dataset - {} examples - 90 columns\".format(len(year_prediction)))\n",
        "  print(\"Number of Nan :{}\".format(year_prediction.isna().sum().sum())) \n",
        "  return year_prediction, 90, \"Year Prediction MSD\"\n",
        "\n",
        "\n",
        "  "
      ],
      "execution_count": 0,
      "outputs": []
    },
    {
      "cell_type": "markdown",
      "metadata": {
        "id": "Xc6pTqlLuYpQ",
        "colab_type": "text"
      },
      "source": [
        "Here you can select the dataset you want to load in by selecting the appropriate function. The rest of the code is going to split a training and test set, and then put the data in cuda tensors."
      ]
    },
    {
      "cell_type": "code",
      "metadata": {
        "id": "DT-pRpWYrHxQ",
        "colab_type": "code",
        "outputId": "dfef92da-1f7e-45cc-abe2-c2d6b3adc62b",
        "colab": {
          "base_uri": "https://localhost:8080/",
          "height": 52
        }
      },
      "source": [
        "data, nb_features, name = year_prediction()\n",
        "nb_features = nb_features-1\n",
        "col = str(nb_features) \n",
        "x = data.drop(col, axis=1)\n",
        "y = data[col]\n",
        "\n",
        "device = torch.device(\"cuda\" if torch.cuda.is_available() else \"cpu\")\n",
        "torch.set_default_tensor_type('torch.cuda.FloatTensor')\n",
        "\n",
        "x_train, x_test, y_train, y_test = train_test_split(x, y, test_size=0.1, random_state=42)\n",
        "\n",
        "x_train = np.array(x_train, dtype='float32')\n",
        "y_train = np.array(y_train, dtype='float32')\n",
        "x_test = np.array(x_test, dtype='float32')\n",
        "y_test = np.array(y_test, dtype='float32')\n",
        "\n",
        "x_train_tensor = torch.tensor(np.array(x_train),device = device)\n",
        "y_train_tensor = torch.tensor(np.array(y_train),device = device)\n",
        "x_test_tensor = torch.tensor(np.array(x_test), device = device)\n",
        "y_test_tensor = torch.tensor(np.array(y_test), device = device)\n",
        "\n"
      ],
      "execution_count": 0,
      "outputs": [
        {
          "output_type": "stream",
          "text": [
            "Year_prediction_msd dataset - 515345 examples - 90 columns\n",
            "Number of Nan :0\n"
          ],
          "name": "stdout"
        }
      ]
    },
    {
      "cell_type": "markdown",
      "metadata": {
        "id": "guTDGaGuufss",
        "colab_type": "text"
      },
      "source": [
        "#Model Definition\n",
        "We define a 3 hidden layer neural net using the Scaled Exponential Linear Unit  activation function. We also add a residual connection."
      ]
    },
    {
      "cell_type": "code",
      "metadata": {
        "id": "fARuM33lrSY6",
        "colab_type": "code",
        "colab": {}
      },
      "source": [
        "# Model\n",
        "\n",
        "class VariationalDropout(nn.Module):\n",
        "    def __init__(self, input_dim, output_dim, keep_prob, model_lambda):\n",
        "        super(VariationalDropout, self).__init__()\n",
        "        self.M = nn.Parameter(torch.rand(input_dim, output_dim))\n",
        "        self.m = nn.Parameter(torch.zeros(output_dim))\n",
        "        self.keep_prob = keep_prob\n",
        "        self.bernoulli = Bernoulli(probs=keep_prob)\n",
        "        self.model_lambda = model_lambda\n",
        "        self.input_dim = input_dim\n",
        "    \n",
        "    def forward(self,x):\n",
        "        # return x.w + b\n",
        "        W = torch.mm(torch.diag(self.bernoulli.sample([self.input_dim])), self.M)\n",
        "        return torch.mm(x, W)+ self.m\n",
        "    \n",
        "    @property\n",
        "    def regularization(self):\n",
        "        return self.model_lambda * (\n",
        "                self.keep_prob * torch.sum(torch.pow(self.M,2))+ \n",
        "                torch.sum(torch.pow(self.m,2))\n",
        "                )\n",
        "\n",
        "class DeepVariationalDropout(nn.Module):\n",
        "    def __init__(self, input_dim, hidden_dim, output_dim, keep_prob, model_lambda):\n",
        "        super(DeepVariationalDropout, self).__init__()\n",
        "        self.L1 = VariationalDropout(input_dim,hidden_dim,keep_prob, model_lambda).cuda()\n",
        "        self.L2 = VariationalDropout(hidden_dim,hidden_dim,keep_prob, model_lambda).cuda()\n",
        "        self.L3 = VariationalDropout(hidden_dim, 1,keep_prob, model_lambda).cuda()\n",
        "\n",
        "    \n",
        "    def forward(self,x):\n",
        "        h1 = F.selu(self.L1(x))\n",
        "        h2 = F.selu(self.L2(h1)) \n",
        "        out = self.L3(h2) \n",
        "        return out\n",
        "    \n",
        "    @property\n",
        "    def regularization(self):\n",
        "        return self.L1.regularization + self.L2.regularization + self.L3.regularization\n"
      ],
      "execution_count": 0,
      "outputs": []
    },
    {
      "cell_type": "markdown",
      "metadata": {
        "id": "XifH4ZxZvlUF",
        "colab_type": "text"
      },
      "source": [
        "#Hyperparameter search\n",
        "We first run the model for 5 epochs to get a baseline score before appliying bayesian optimization."
      ]
    },
    {
      "cell_type": "code",
      "metadata": {
        "id": "MzfKa810rawi",
        "colab_type": "code",
        "colab": {}
      },
      "source": [
        "## Baseline neural net\n",
        "model_lambda = 1e-2\n",
        "keep_prob = .8    \n",
        "hidden_dim = 100\n",
        "\n",
        "neural_net = DeepVariationalDropout(nb_features, hidden_dim, 1, keep_prob, model_lambda).cuda()\n",
        "\n",
        "\n",
        "criterion = nn.MSELoss()  \n",
        "optimizer = optim.Adam(neural_net.parameters(), lr=0.0001)\n",
        "\n",
        "# Training\n",
        "epochs = 5\n",
        "\n",
        "for i in range(epochs):\n",
        "    # Zero the gradients before running the backward pass.\n",
        "    neural_net.zero_grad()\n",
        "\n",
        "    # Forward propagation\n",
        "    out = neural_net(x_train_tensor).squeeze(-1)\n",
        "    rmse =  criterion(y_train_tensor,out)\n",
        "    loss = rmse + neural_net.regularization\n",
        "    # Backward pass: compute gradient of the loss with respect to all the learnable\n",
        "    # parameters of the model. Internally, the parameters of each Module are stored\n",
        "    # in Tensors with requires_grad=Trupae, so this call will compute gradients for\n",
        "    # all learnable parameters in the model.\n",
        "    loss.backward(retain_graph=True)\n",
        "    # Update the weights using gradient descent. Each parameter is a Tensor, so\n",
        "    # we can access its gradients like we did before.\n",
        "    optimizer.step()\n",
        "\n",
        "rmse =  criterion(y_train_tensor,out)\n",
        "loss = rmse + neural_net.regularization\n",
        "baseline_score = loss.detach().cpu().numpy()"
      ],
      "execution_count": 0,
      "outputs": []
    },
    {
      "cell_type": "markdown",
      "metadata": {
        "id": "ax1DHULhveVb",
        "colab_type": "text"
      },
      "source": [
        "We then define the function to optimize. Basically we want to reduce the loss after 5 epochs, depending on learning rate and the hidden dimension. We are going to search the model $\\lambda$ between 0.001 and 0.1, and the learning rate between 0.0001 and 0.01. Finaly we use the Maximum Probability of Improvement as the acquisition function in the Gaussian process."
      ]
    },
    {
      "cell_type": "code",
      "metadata": {
        "id": "UhL1lZlareNa",
        "colab_type": "code",
        "colab": {}
      },
      "source": [
        "keep_prob = .8    \n",
        "\n",
        "def model_to_optimize(x):\n",
        "  \"\"\"\n",
        "  Function to optimize with Bayesian Optimization (BO)\n",
        "  we basically run our model with different model_lambda and different learning rate.\n",
        "  \"\"\"\n",
        "  learning_rate = float(x[:,0])\n",
        "  model_lambda = float(x[:,1])\n",
        "  hidden_dim = int(x[:,2])\n",
        "  neural_net = DeepVariationalDropout(nb_features, hidden_dim, 1, keep_prob, model_lambda).cuda()\n",
        "  criterion = nn.MSELoss()  \n",
        "  optimizer = optim.Adam(neural_net.parameters(), lr=learning_rate)\n",
        "  # Training\n",
        "  epochs = 5\n",
        "  for i in range(epochs):\n",
        "      # Zero the gradients before running the backward pass.\n",
        "      neural_net.zero_grad()\n",
        "\n",
        "      # Forward propagation\n",
        "      out = neural_net(x_train_tensor).squeeze(-1)\n",
        "      rmse =  criterion(y_train_tensor,out)\n",
        "      loss = rmse + neural_net.regularization\n",
        "      loss.backward(retain_graph=True) \n",
        "      # Update the weights using gradient descent. Each parameter is a Tensor, so\n",
        "      # we can access its gradients like we did before.\n",
        "      optimizer.step()\n",
        "  # Evaluating the trained model after 5 epochs      \n",
        "  rmse =  criterion(y_train_tensor,out)\n",
        "  loss = rmse + neural_net.regularization \n",
        "  \n",
        "  return loss.detach().cpu().numpy()\n",
        "\n",
        "\n",
        "bounds = [\n",
        "            {'name': 'learning_rate', 'type': 'continuous', 'domain': (10**-4,10**-2)},\n",
        "            {'name': 'model_lambda', 'type': 'continuous', 'domain': (10**-3,10**-1)},\n",
        "            {'name': 'hidden_dim', 'type': 'discrete', 'domain': np.arange(10,100)},\n",
        "         ]\n",
        "optimizer = GPyOpt.methods.BayesianOptimization(f=model_to_optimize, domain=bounds,\n",
        "                                                        acquisition_type = 'MPI',\n",
        "                                                        acquisition_par = 0.1,                                                    \n",
        "                                                        model_type='GP')\n"
      ],
      "execution_count": 0,
      "outputs": []
    },
    {
      "cell_type": "code",
      "metadata": {
        "id": "NFmiFI0ArzKV",
        "colab_type": "code",
        "outputId": "f22e1400-c149-4c6c-8d93-fcd20a41ac69",
        "colab": {
          "base_uri": "https://localhost:8080/",
          "height": 419
        }
      },
      "source": [
        "optimizer.run_optimization(max_iter=20, eps=-1)\n",
        "\n",
        "## Bayesian Optimization Evaluation\n",
        "\n",
        "best_hyperparameters = optimizer.X[np.argmin(optimizer.Y)]\n",
        "performance_boost_20_run = (baseline_score/np.min(optimizer.Y) -1)*100\n",
        "print(\"best learning rate: {}\".format(best_hyperparameters[0]))\n",
        "print(\"best model lambda: {}\".format(best_hyperparameters[1]))\n",
        "print(\"best hidden dimension : {}\".format(best_hyperparameters[2]))\n",
        "print(\"The performance boost after 20 iteration is : {} %\".format(np.floor(performance_boost_20_run)))\n",
        "\n",
        "# Plot the optimizer convergence\n",
        "# two graphs, the first describe the distance between a set of hyperparameters\n",
        "# at a given evaluation to another; the second graph shows an evolution\n",
        "# of the value of the lowest loss we found.\n",
        "optimizer.plot_convergence()"
      ],
      "execution_count": 0,
      "outputs": [
        {
          "output_type": "stream",
          "text": [
            "best learning rate: 0.01\n",
            "best model lambda: 0.001\n",
            "best hidden dimension : 36.0\n",
            "The performance boost after 20 iteration is : 33139.0 %\n"
          ],
          "name": "stdout"
        },
        {
          "output_type": "display_data",
          "data": {
            "image/png": "[encoded data removed]",
            "text/plain": [
              "<Figure size 720x360 with 2 Axes>"
            ]
          },
          "metadata": {
            "tags": []
          }
        }
      ]
    },
    {
      "cell_type": "code",
      "metadata": {
        "id": "IsJ7CWsWshu3",
        "colab_type": "code",
        "outputId": "8a7d7477-1949-4ad1-c19d-e77198e9a774",
        "colab": {
          "base_uri": "https://localhost:8080/",
          "height": 1000
        }
      },
      "source": [
        "model_lambda = best_hyperparameters[1]\n",
        "keep_prob1 = .8    \n",
        "hidden_dim = int(best_hyperparameters[2])\n",
        "\n",
        "neural_net = DeepVariationalDropout(nb_features, hidden_dim, 1, keep_prob, model_lambda).cuda()\n",
        "\n",
        "criterion = nn.MSELoss()  \n",
        "optimizer = optim.Adam(neural_net.parameters(), lr=best_hyperparameters[0])\n",
        "\n",
        "losses = []\n",
        "# Training\n",
        "epochs = 35000\n",
        "\n",
        "for i in range(epochs):\n",
        "    # Zero the gradients before running the backward pass.\n",
        "    neural_net.zero_grad()\n",
        "\n",
        "    # Forward propagation\n",
        "    out = neural_net(x_train_tensor).squeeze(-1)\n",
        "    rmse =  criterion(y_train_tensor,out)\n",
        "    loss = rmse + neural_net.regularization\n",
        "    # Backward prop\n",
        "    loss.backward(retain_graph=True)\n",
        "    losses.append(loss.item())\n",
        "    if i % 500 == 0:\n",
        "            print(\"[iteration %04d] loss: %.4f\" % (i, loss ))\n",
        "\n",
        "    # Update the weights using gradient descent. Each parameter is a Tensor, so\n",
        "    # we can access its gradients like we did before.\n",
        "    optimizer.step()\n",
        "\n"
      ],
      "execution_count": 0,
      "outputs": [
        {
          "output_type": "stream",
          "text": [
            "[iteration 0000] loss: 1507544793088.0000\n",
            "[iteration 0500] loss: 69401808.0000\n",
            "[iteration 1000] loss: 12365360.0000\n",
            "[iteration 1500] loss: 87019312.0000\n",
            "[iteration 2000] loss: 9388382.0000\n",
            "[iteration 2500] loss: 52592456.0000\n",
            "[iteration 3000] loss: 13055536.0000\n",
            "[iteration 3500] loss: 1449464.5000\n",
            "[iteration 4000] loss: 2537192.0000\n",
            "[iteration 4500] loss: 4036804.7500\n",
            "[iteration 5000] loss: 4183778.7500\n",
            "[iteration 5500] loss: 4524121.5000\n",
            "[iteration 6000] loss: 13264958.0000\n",
            "[iteration 6500] loss: 1366708.6250\n",
            "[iteration 7000] loss: 2095827.7500\n",
            "[iteration 7500] loss: 1279361.8750\n",
            "[iteration 8000] loss: 1151826.1250\n",
            "[iteration 8500] loss: 1002199.3750\n",
            "[iteration 9000] loss: 1256566.2500\n",
            "[iteration 9500] loss: 1042415.6875\n",
            "[iteration 10000] loss: 636777.8750\n",
            "[iteration 10500] loss: 836388.3125\n",
            "[iteration 11000] loss: 533881.2500\n",
            "[iteration 11500] loss: 568265.1250\n",
            "[iteration 12000] loss: 528141.0625\n",
            "[iteration 12500] loss: 533709.0000\n",
            "[iteration 13000] loss: 457467.6875\n",
            "[iteration 13500] loss: 860142.8750\n",
            "[iteration 14000] loss: 369615.4688\n",
            "[iteration 14500] loss: 641838.9375\n",
            "[iteration 15000] loss: 515180.3438\n",
            "[iteration 15500] loss: 696443.0625\n",
            "[iteration 16000] loss: 352906.0312\n",
            "[iteration 16500] loss: 234418.2500\n",
            "[iteration 17000] loss: 347631.7500\n",
            "[iteration 17500] loss: 918050.0625\n",
            "[iteration 18000] loss: 268601.5625\n",
            "[iteration 18500] loss: 181562.2656\n",
            "[iteration 19000] loss: 495981.7812\n",
            "[iteration 19500] loss: 294995.1562\n",
            "[iteration 20000] loss: 180509.4844\n",
            "[iteration 20500] loss: 487362.5000\n",
            "[iteration 21000] loss: 160313.8906\n",
            "[iteration 21500] loss: 329107.2812\n",
            "[iteration 22000] loss: 189849.8281\n",
            "[iteration 22500] loss: 178829.1719\n",
            "[iteration 23000] loss: 578395.1875\n",
            "[iteration 23500] loss: 179264.4062\n",
            "[iteration 24000] loss: 176301.6094\n",
            "[iteration 24500] loss: 128641.1719\n",
            "[iteration 25000] loss: 176830.3906\n",
            "[iteration 25500] loss: 256460.1250\n",
            "[iteration 26000] loss: 344534.8750\n",
            "[iteration 26500] loss: 164000.6719\n",
            "[iteration 27000] loss: 533246.5625\n",
            "[iteration 27500] loss: 170174.7656\n",
            "[iteration 28000] loss: 66940.3750\n",
            "[iteration 28500] loss: 354301.5625\n",
            "[iteration 29000] loss: 495449.7188\n",
            "[iteration 29500] loss: 5559.4609\n",
            "[iteration 30000] loss: 201675.0625\n",
            "[iteration 30500] loss: 67955.4531\n",
            "[iteration 31000] loss: 9751.3252\n",
            "[iteration 31500] loss: 24351.0801\n",
            "[iteration 32000] loss: 6211.9170\n",
            "[iteration 32500] loss: 16134.8379\n",
            "[iteration 33000] loss: 91961.7422\n",
            "[iteration 33500] loss: 12298.9473\n",
            "[iteration 34000] loss: 343472.2500\n",
            "[iteration 34500] loss: 32977.8320\n"
          ],
          "name": "stdout"
        }
      ]
    },
    {
      "cell_type": "code",
      "metadata": {
        "id": "Vj8fmHrjssNM",
        "colab_type": "code",
        "outputId": "858b3ab4-e68a-47eb-94e4-5529c00d00e6",
        "colab": {
          "base_uri": "https://localhost:8080/",
          "height": 286
        }
      },
      "source": [
        "cost = np.array(losses[15000:])    \n",
        "t = np.arange(epochs-15000)    \n",
        "plt.plot(t,cost) "
      ],
      "execution_count": 0,
      "outputs": [
        {
          "output_type": "execute_result",
          "data": {
            "text/plain": [
              "[<matplotlib.lines.Line2D at 0x7fa2dc5f6da0>]"
            ]
          },
          "metadata": {
            "tags": []
          },
          "execution_count": 129
        },
        {
          "output_type": "display_data",
          "data": {
            "image/png": "[encoded data removed]",
            "text/plain": [
              "<Figure size 432x288 with 1 Axes>"
            ]
          },
          "metadata": {
            "tags": []
          }
        }
      ]
    },
    {
      "cell_type": "markdown",
      "metadata": {
        "id": "TAeutk128L3Z",
        "colab_type": "text"
      },
      "source": [
        "It is very likely that you will need to save the neural network and evaluate it locally if the dataset is year prediction msd. Otherwise you can skip this command and direclty evaluate the model."
      ]
    },
    {
      "cell_type": "code",
      "metadata": {
        "id": "upTV-ByhGkws",
        "colab_type": "code",
        "colab": {}
      },
      "source": [
        "torch.save(neural_net, 'neural_net_dropout_2')"
      ],
      "execution_count": 0,
      "outputs": []
    },
    {
      "cell_type": "markdown",
      "metadata": {
        "id": "Y-1hH8GS8N87",
        "colab_type": "text"
      },
      "source": [
        "#Model Evaluation"
      ]
    },
    {
      "cell_type": "code",
      "metadata": {
        "id": "KN1VRIqHt1lK",
        "colab_type": "code",
        "colab": {}
      },
      "source": [
        "\n",
        "######### Evaluate the model\n",
        "# Those utility functions are going to be used further the line to evaluate the predictions.\n",
        "def picp(y, y_lower, y_upper):\n",
        "    batch_size = len(y)\n",
        "    k = np.zeros(batch_size)\n",
        "    for i in range(batch_size):\n",
        "        k[i] = y_lower[i] <= y[i] <= y_upper[i]\n",
        "    return np.mean(k)\n",
        "\n",
        "def mpiw(y_lower, y_upper):\n",
        "    return np.mean(y_upper-y_lower)\n",
        "    \n",
        "def EmpiricalDistribution(x_data, model, num_sample):\n",
        "    predictions = torch.zeros((num_sample, len(x_data)))\n",
        "    for i in range(num_sample):\n",
        "        prediction_mean = model(x_data)\n",
        "        predictions[i] = prediction_mean.squeeze(-1)\n",
        "    return predictions   \n"
      ],
      "execution_count": 0,
      "outputs": []
    },
    {
      "cell_type": "code",
      "metadata": {
        "id": "zDg0248i8UKW",
        "colab_type": "code",
        "colab": {}
      },
      "source": [
        "num_sample = 1000\n",
        "predictions = EmpiricalDistribution(x_test_tensor,neural_net,num_sample)\n",
        "predictions = predictions.detach().cpu().numpy()\n",
        "\n",
        "\n",
        "marginal_site = pd.DataFrame(predictions).transpose()\n",
        "describe = partial(pd.Series.describe, percentiles=[.025, 0.5, 0.975])\n",
        "summary = marginal_site.apply(describe, axis=1)[[\"mean\", \"std\", \"2.5%\", \"50%\", \"97.5%\"]]\n",
        "\n",
        "y_test_lower = np.array(summary['2.5%'])\n",
        "y_test_upper = np.array(summary['97.5%'])\n",
        "y_test_mean =  np.array(summary['mean'])\n",
        "y_test_median = np.array(summary['50%'])\n",
        "\n",
        "proba_coverage_test = picp(y_test, y_test_lower, y_test_upper)\n",
        "interval_predicted_test = mpiw(y_test_lower, y_test_upper)\n",
        "rmse_test = np.mean(np.sqrt(np.power((y_test_mean-y_test),2)))\n",
        "\n",
        "interval_def = np.max(y) - np.min(y)\n"
      ],
      "execution_count": 0,
      "outputs": []
    },
    {
      "cell_type": "code",
      "metadata": {
        "id": "GPbQb0pNt6QI",
        "colab_type": "code",
        "outputId": "30e57f11-abdf-477d-aa01-15f9fcc0f28e",
        "colab": {
          "base_uri": "https://localhost:8080/",
          "height": 104
        }
      },
      "source": [
        "print(\"{} dataset\".format(name))\n",
        "print(\"Prediction Interval Coverage Probability (PICP): {}\".format(proba_coverage_test))\n",
        "print(\"Mean Prediction Interval Width (MPIW): {}\".format(interval_predicted_test))\n",
        "print(\"Natural Interval Width of Data: {}\".format(interval_def))\n",
        "print(\"Root Mean Square Error (RMSE): {}\".format(rmse_test))\n"
      ],
      "execution_count": 0,
      "outputs": [
        {
          "output_type": "stream",
          "text": [
            "Concrete Strength dataset\n",
            "Prediction Interval Coverage Probability (PICP): 0.9029126213592233\n",
            "Mean Prediction Interval Width (MPIW): 53.1532989889745\n",
            "Natural Interval Width of Data: 80.27\n",
            "Root Mean Square Error (RMSE): 13.140986137019778\n"
          ],
          "name": "stdout"
        }
      ]
    },
    {
      "cell_type": "code",
      "metadata": {
        "id": "es8HhbzRt_gw",
        "colab_type": "code",
        "colab": {}
      },
      "source": [
        ""
      ],
      "execution_count": 0,
      "outputs": []
    }
  ]
}