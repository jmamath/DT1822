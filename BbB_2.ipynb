{
  "nbformat": 4,
  "nbformat_minor": 0,
  "metadata": {
    "colab": {
      "name": "BbB_2.ipynb",
      "version": "0.3.2",
      "provenance": [],
      "collapsed_sections": []
    },
    "kernelspec": {
      "name": "python3",
      "display_name": "Python 3"
    },
    "accelerator": "GPU"
  },
  "cells": [
    {
      "cell_type": "markdown",
      "metadata": {
        "id": "1SJUrvUZk_w-",
        "colab_type": "text"
      },
      "source": [
        "#Downloading required packages\n"
      ]
    },
    {
      "cell_type": "code",
      "metadata": {
        "id": "UuzK4avxRUe-",
        "colab_type": "code",
        "colab": {
          "base_uri": "https://localhost:8080/",
          "height": 1000
        },
        "outputId": "fe4aaee1-4c21-4e53-c1a0-79b7fa64e807"
      },
      "source": [
        "!pip install gpyopt\n",
        "!pip install pycuda\n",
        "!pip install pyro-ppl==0.3.2"
      ],
      "execution_count": 2,
      "outputs": [
        {
          "output_type": "stream",
          "text": [
            "Collecting gpyopt\n",
            "\u001b[?25l  Downloading https://files.pythonhosted.org/packages/9c/40/ca8f080d74d9f4e29069faa944fcfb083e8693b6daaba0f1e4bc65c88650/GPyOpt-1.2.5.tar.gz (55kB)\n",
            "\u001b[K     |████████████████████████████████| 61kB 711kB/s \n",
            "\u001b[?25hRequirement already satisfied: numpy>=1.7 in /usr/local/lib/python3.6/dist-packages (from gpyopt) (1.16.4)\n",
            "Requirement already satisfied: scipy>=0.16 in /usr/local/lib/python3.6/dist-packages (from gpyopt) (1.3.0)\n",
            "Collecting GPy>=1.8 (from gpyopt)\n",
            "\u001b[?25l  Downloading https://files.pythonhosted.org/packages/5c/a1/4418ee1db50c6e917e399db841c30b95d3c242555272e85473404ab06377/GPy-1.9.8.tar.gz (989kB)\n",
            "\u001b[K     |████████████████████████████████| 993kB 679kB/s \n",
            "\u001b[?25hRequirement already satisfied: six in /usr/local/lib/python3.6/dist-packages (from GPy>=1.8->gpyopt) (1.12.0)\n",
            "Collecting paramz>=0.9.0 (from GPy>=1.8->gpyopt)\n",
            "\u001b[?25l  Downloading https://files.pythonhosted.org/packages/d8/37/4abbeb78d30f20d3402887f46e6e9f3ef32034a9dea65d243654c82c8553/paramz-0.9.5.tar.gz (71kB)\n",
            "\u001b[K     |████████████████████████████████| 71kB 21.6MB/s \n",
            "\u001b[?25hRequirement already satisfied: decorator>=4.0.10 in /usr/local/lib/python3.6/dist-packages (from paramz>=0.9.0->GPy>=1.8->gpyopt) (4.4.0)\n",
            "Building wheels for collected packages: gpyopt, GPy, paramz\n",
            "  Building wheel for gpyopt (setup.py) ... \u001b[?25l\u001b[?25hdone\n",
            "  Stored in directory: /root/.cache/pip/wheels/33/1d/87/dc02440831ba986b1547dd11a7dcd44e893b0527083066d869\n",
            "  Building wheel for GPy (setup.py) ... \u001b[?25l\u001b[?25hdone\n",
            "  Stored in directory: /root/.cache/pip/wheels/96/ee/cd/1c4dd7df63246b1e8de58af6d4457b7aed13509fdc0c918a13\n",
            "  Building wheel for paramz (setup.py) ... \u001b[?25l\u001b[?25hdone\n",
            "  Stored in directory: /root/.cache/pip/wheels/c8/4a/0e/6e0dc85541825f991c431619e25b870d4b812c911214690cf8\n",
            "Successfully built gpyopt GPy paramz\n",
            "Installing collected packages: paramz, GPy, gpyopt\n",
            "Successfully installed GPy-1.9.8 gpyopt-1.2.5 paramz-0.9.5\n",
            "Collecting pycuda\n",
            "\u001b[?25l  Downloading https://files.pythonhosted.org/packages/c8/35/130ac8867b30f9c6ae699b689633a803a73787533f41e52afcf28b75bd81/pycuda-2019.1.1.tar.gz (1.6MB)\n",
            "\u001b[K     |████████████████████████████████| 1.6MB 605kB/s \n",
            "\u001b[?25hCollecting pytools>=2011.2 (from pycuda)\n",
            "\u001b[?25l  Downloading https://files.pythonhosted.org/packages/00/96/00416762a3eda8876a17d007df4a946f46b2e4ee1057e0b9714926472ef8/pytools-2019.1.1.tar.gz (58kB)\n",
            "\u001b[K     |████████████████████████████████| 61kB 19.9MB/s \n",
            "\u001b[?25hRequirement already satisfied: pytest>=2 in /usr/local/lib/python3.6/dist-packages (from pycuda) (3.6.4)\n",
            "Requirement already satisfied: decorator>=3.2.0 in /usr/local/lib/python3.6/dist-packages (from pycuda) (4.4.0)\n",
            "Collecting appdirs>=1.4.0 (from pycuda)\n",
            "  Downloading https://files.pythonhosted.org/packages/56/eb/810e700ed1349edde4cbdc1b2a21e28cdf115f9faf263f6bbf8447c1abf3/appdirs-1.4.3-py2.py3-none-any.whl\n",
            "Collecting mako (from pycuda)\n",
            "\u001b[?25l  Downloading https://files.pythonhosted.org/packages/fa/29/8016763284d8fab844224f7cc5675cb4a388ebda0eb5a403260187e48435/Mako-1.0.13.tar.gz (460kB)\n",
            "\u001b[K     |████████████████████████████████| 471kB 39.3MB/s \n",
            "\u001b[?25hRequirement already satisfied: six>=1.8.0 in /usr/local/lib/python3.6/dist-packages (from pytools>=2011.2->pycuda) (1.12.0)\n",
            "Requirement already satisfied: numpy>=1.6.0 in /usr/local/lib/python3.6/dist-packages (from pytools>=2011.2->pycuda) (1.16.4)\n",
            "Requirement already satisfied: more-itertools>=4.0.0 in /usr/local/lib/python3.6/dist-packages (from pytest>=2->pycuda) (7.1.0)\n",
            "Requirement already satisfied: setuptools in /usr/local/lib/python3.6/dist-packages (from pytest>=2->pycuda) (41.0.1)\n",
            "Requirement already satisfied: atomicwrites>=1.0 in /usr/local/lib/python3.6/dist-packages (from pytest>=2->pycuda) (1.3.0)\n",
            "Requirement already satisfied: pluggy<0.8,>=0.5 in /usr/local/lib/python3.6/dist-packages (from pytest>=2->pycuda) (0.7.1)\n",
            "Requirement already satisfied: py>=1.5.0 in /usr/local/lib/python3.6/dist-packages (from pytest>=2->pycuda) (1.8.0)\n",
            "Requirement already satisfied: attrs>=17.4.0 in /usr/local/lib/python3.6/dist-packages (from pytest>=2->pycuda) (19.1.0)\n",
            "Requirement already satisfied: MarkupSafe>=0.9.2 in /usr/local/lib/python3.6/dist-packages (from mako->pycuda) (1.1.1)\n",
            "Building wheels for collected packages: pycuda, pytools, mako\n",
            "  Building wheel for pycuda (setup.py) ... \u001b[?25l\u001b[?25hdone\n",
            "  Stored in directory: /root/.cache/pip/wheels/31/f5/72/73296e7845a1ddd8769ef5baa6a8bb05bbd8baedc18184b0d1\n",
            "  Building wheel for pytools (setup.py) ... \u001b[?25l\u001b[?25hdone\n",
            "  Stored in directory: /root/.cache/pip/wheels/83/df/0b/75ac4572aaa93e3eba6a58472635d0fda907f5f4cf884a3a0c\n",
            "  Building wheel for mako (setup.py) ... \u001b[?25l\u001b[?25hdone\n",
            "  Stored in directory: /root/.cache/pip/wheels/cc/0e/59/0e7f24103d1ebce045037aa17b75548a8387f5e7d2d0011fdc\n",
            "Successfully built pycuda pytools mako\n",
            "Installing collected packages: appdirs, pytools, mako, pycuda\n",
            "Successfully installed appdirs-1.4.3 mako-1.0.13 pycuda-2019.1.1 pytools-2019.1.1\n",
            "Collecting pyro-ppl==0.3.2\n",
            "\u001b[?25l  Downloading https://files.pythonhosted.org/packages/3e/df/9d49d1fa8d4e47d473c801bf22f9d2a433a0e61c609bedc5681ae0e22e76/pyro-ppl-0.3.2.tar.gz (230kB)\n",
            "\u001b[K     |████████████████████████████████| 235kB 795kB/s \n",
            "\u001b[?25hRequirement already satisfied: contextlib2 in /usr/local/lib/python3.6/dist-packages (from pyro-ppl==0.3.2) (0.5.5)\n",
            "Requirement already satisfied: graphviz>=0.8 in /usr/local/lib/python3.6/dist-packages (from pyro-ppl==0.3.2) (0.10.1)\n",
            "Requirement already satisfied: numpy>=1.7 in /usr/local/lib/python3.6/dist-packages (from pyro-ppl==0.3.2) (1.16.4)\n",
            "Collecting opt_einsum>=2.3.2 (from pyro-ppl==0.3.2)\n",
            "\u001b[?25l  Downloading https://files.pythonhosted.org/packages/f6/d6/44792ec668bcda7d91913c75237314e688f70415ab2acd7172c845f0b24f/opt_einsum-2.3.2.tar.gz (59kB)\n",
            "\u001b[K     |████████████████████████████████| 61kB 20.6MB/s \n",
            "\u001b[?25hRequirement already satisfied: six>=1.10.0 in /usr/local/lib/python3.6/dist-packages (from pyro-ppl==0.3.2) (1.12.0)\n",
            "Requirement already satisfied: torch>=1.0.1 in /usr/local/lib/python3.6/dist-packages (from pyro-ppl==0.3.2) (1.1.0)\n",
            "Requirement already satisfied: tqdm>=4.28 in /usr/local/lib/python3.6/dist-packages (from pyro-ppl==0.3.2) (4.28.1)\n",
            "Building wheels for collected packages: pyro-ppl, opt-einsum\n",
            "  Building wheel for pyro-ppl (setup.py) ... \u001b[?25l\u001b[?25hdone\n",
            "  Stored in directory: /root/.cache/pip/wheels/7f/2f/21/9f840307c05be374f101b0e4aee2db0596437fe2ade0334c2f\n",
            "  Building wheel for opt-einsum (setup.py) ... \u001b[?25l\u001b[?25hdone\n",
            "  Stored in directory: /root/.cache/pip/wheels/51/3e/a3/b351fae0cbf15373c2136a54a70f43fea5fe91d8168a5faaa4\n",
            "Successfully built pyro-ppl opt-einsum\n",
            "Installing collected packages: opt-einsum, pyro-ppl\n",
            "Successfully installed opt-einsum-2.3.2 pyro-ppl-0.3.2\n"
          ],
          "name": "stdout"
        }
      ]
    },
    {
      "cell_type": "markdown",
      "metadata": {
        "id": "-jmDJT0elIZb",
        "colab_type": "text"
      },
      "source": [
        "#Loading libraries\n"
      ]
    },
    {
      "cell_type": "code",
      "metadata": {
        "id": "7NJD0FUWRg20",
        "colab_type": "code",
        "colab": {}
      },
      "source": [
        "import pandas as pd\n",
        "import torch\n",
        "import GPyOpt\n",
        "import torch.nn as nn\n",
        "import numpy as np\n",
        "import matplotlib.pyplot as plt\n",
        "import torch.optim as optim\n",
        "import pyro\n",
        "from pyro.distributions import Normal, Delta\n",
        "from diag_normal_mixture import MixtureOfDiagNormals\n",
        "from pyro.infer import  SVI , Trace_ELBO , EmpiricalMarginal, TracePredictive\n",
        "from pyro.optim import Adam\n",
        "from torch.distributions import constraints\n",
        "from sklearn.model_selection import train_test_split\n",
        "import torch.nn.functional as F\n",
        "import fileinput\n",
        "import pycuda.driver as cuda\n",
        "import requests\n",
        "from functools import partial\n",
        "cuda.init()"
      ],
      "execution_count": 0,
      "outputs": []
    },
    {
      "cell_type": "markdown",
      "metadata": {
        "id": "hY-YxmdzlQwx",
        "colab_type": "text"
      },
      "source": [
        "#Loading data\n",
        "\n",
        "This is mostly boiler plate code, except for the boston and yacht datasets, every data is read directly from the source on github. For the case of boston and yacht datasets, we download them locally to fix some issues concerning the separator between each columns.\n",
        "\n",
        "Each dataset call is then associated to a function."
      ]
    },
    {
      "cell_type": "code",
      "metadata": {
        "id": "DC6tG7XWRr0F",
        "colab_type": "code",
        "colab": {}
      },
      "source": [
        "### Loading data \n",
        "\"\"\" \n",
        "\n",
        "\"\"\"\n",
        "boston_url = \"https://media.githubusercontent.com/media/probabilisticai/dt8122/master/datasets/boston_housing.txt\"\n",
        "concrete_url = \"https://media.githubusercontent.com/media/probabilisticai/dt8122/master/datasets/concrete.txt\"\n",
        "energy_url = \"https://media.githubusercontent.com/media/probabilisticai/dt8122/master/datasets/energy_heating_load.txt\"\n",
        "kin8_url = \"https://media.githubusercontent.com/media/probabilisticai/dt8122/master/datasets/kin8nm.txt\"\n",
        "naval_url = \"https://media.githubusercontent.com/media/probabilisticai/dt8122/master/datasets/naval_compressor_decay.txt\"\n",
        "power_url = \"https://media.githubusercontent.com/media/probabilisticai/dt8122/master/datasets/power.txt\"\n",
        "protein_url = \"https://media.githubusercontent.com/media/probabilisticai/dt8122/master/datasets/protein.txt\"\n",
        "wine_url = \"https://media.githubusercontent.com/media/probabilisticai/dt8122/master/datasets/wine.txt\"\n",
        "yacht_url = \"https://media.githubusercontent.com/media/probabilisticai/dt8122/master/datasets/yacht.txt\"\n",
        "year_prediction_url = \"https://media.githubusercontent.com/media/probabilisticai/dt8122/master/datasets/year_prediction_msd.txt\"\n",
        "\n",
        "\n",
        "def boston():\n",
        "  r = requests.get(boston_url)\n",
        "  with open('/content/boston.txt', 'wb') as f:  \n",
        "    f.write(r.content)\n",
        "  with fileinput.FileInput(\"boston.txt\", inplace=True, backup='.bak') as file:\n",
        "    for line in file:\n",
        "        print(line.replace(\"   \", \" \"), end='')\n",
        "  bos = [str(i) for i in range(14)]\n",
        "  boston = pd.read_csv('boston.txt', sep=\"  | \",names = bos, header=None)\n",
        "  print(\"Boston dataset - {} examples - 14 columns\".format(len(boston)))\n",
        "  print(\"Number of Nan :{}\".format(boston.isna().sum().sum())) \n",
        "  return boston, 14, \"Boston Housing\"\n",
        "\n",
        "def concrete():\n",
        "  conc = [str(i) for i in range(9)]\n",
        "  concrete = pd.read_csv(concrete_url, sep=\" |\\t\",names = conc, header=None)\n",
        "  print(\"Concrete dataset - {} examples - 9 columns\".format(len(concrete)))\n",
        "  print(\"Number of Nan :{}\".format(concrete.isna().sum().sum())) \n",
        "  return concrete, 9, \"Concrete Strength\"\n",
        "\n",
        "def energy():  \n",
        "  ener = [str(i) for i in range(9)]\n",
        "  energy = pd.read_csv(energy_url, sep=\" |\\t\",names = ener, header=None)\n",
        "  print(\"Energy dataset - {} examples - 9 columns\".format(len(energy)))\n",
        "  print(\"Number of Nan :{}\".format(energy.isna().sum().sum())) \n",
        "  return energy, 9, \"Energy Efficiency\"\n",
        "\n",
        "def kin8nm():\n",
        "  kin8 = [str(i) for i in range(9)]\n",
        "  kin8nm = pd.read_csv(kin8_url, sep=\"   |  \",names = kin8, header=None)\n",
        "  print(\"Kin8nm dataset - {} examples - 10 columns\".format(len(kin8nm)))\n",
        "  print(\"Number of Nan :{}\".format(kin8nm.isna().sum().sum())) \n",
        "  return kin8nm, 9, \"Kin8nm\"\n",
        "\n",
        "def naval():\n",
        "  nav = [str(i) for i in range(17)]\n",
        "  naval = pd.read_csv(naval_url, sep=\" |\\t\", names = nav, header=None)\n",
        "  print(\"Naval dataset - {} examples - 17 columns\".format(len(naval)))\n",
        "  print(\"Number of Nan :{}\".format(naval.isna().sum().sum())) \n",
        "  return naval, 17, \"Naval Propulsion\"\n",
        "\n",
        "def power():\n",
        "  pow = [str(i) for i in range(5)]\n",
        "  power = pd.read_csv(power_url, sep=\" |\\t\", names = pow, header=None)\n",
        "  print(\"Power dataset - {} examples - 5 columns\".format(len(power)))\n",
        "  print(\"Number of Nan :{}\".format(power.isna().sum().sum())) \n",
        "  return power, 5, \"Power Plant\"\n",
        "\n",
        "def protein():\n",
        "  prot = [str(i) for i in range(10)]\n",
        "  protein = pd.read_csv(protein_url, sep=\" |\\t\", names = prot, header=None)\n",
        "  print(\"Protein dataset - {} examples - 10 columns\".format(len(protein)))\n",
        "  print(\"Number of Nan :{}\".format(protein.isna().sum().sum())) \n",
        "  return protein, 10, \"Protein Structure\"\n",
        "\n",
        "def wine():\n",
        "  w = [str(i) for i in range(12)]\n",
        "  wine = pd.read_csv(wine_url, sep=\" |\\t\", names = w, header=None)\n",
        "  print(\"Wine dataset - {} examples - 12 columns\".format(len(wine)))\n",
        "  print(\"Number of Nan :{}\".format(wine.isna().sum().sum())) \n",
        "  return wine, 12, \"Wine Quality Red\"\n",
        "\n",
        "def yacht(): \n",
        "  r = requests.get(yacht_url)\n",
        "  with open('/content/yacht.txt', 'wb') as f:  \n",
        "      f.write(r.content) \n",
        "  with fileinput.FileInput(\"yacht.txt\", inplace=True, backup='.bak') as file:\n",
        "    for line in file:\n",
        "        print(line.replace(\"  \", \" \"), end='')\n",
        "  ya = [str(i) for i in range(7)]        \n",
        "  yacht = pd.read_csv('yacht.txt', sep=\" \", names = ya, header=None)\n",
        "  print(\"Yacht dataset - {} examples - 7 columns\".format(len(yacht)))\n",
        "  print(\"Number of Nan :{}\".format(yacht.isna().sum().sum())) \n",
        "  return yacht, 7, \"Yacht Hydrodynamics\"\n",
        "\n",
        "def year_prediction():\n",
        "  year = [str(i) for i in range(90)]\n",
        "  year_prediction = pd.read_csv(year_prediction_url, sep=\" \", names = year, header=None)\n",
        "  print(\"Year_prediction_msd dataset - {} examples - 90 columns\".format(len(year_prediction)))\n",
        "  print(\"Number of Nan :{}\".format(year_prediction.isna().sum().sum())) \n",
        "  return year_prediction, 90, \"Year Prediction MSD\"\n",
        "\n",
        "\n",
        "  "
      ],
      "execution_count": 0,
      "outputs": []
    },
    {
      "cell_type": "markdown",
      "metadata": {
        "id": "mIKIJsh8lp1n",
        "colab_type": "text"
      },
      "source": [
        "Here you can select the dataset you want to load in by selecting the appropriate function. The rest of the code is going to split a training and test set, and then put the data in cuda tensors."
      ]
    },
    {
      "cell_type": "code",
      "metadata": {
        "id": "O47F8PUHSQn0",
        "colab_type": "code",
        "colab": {
          "base_uri": "https://localhost:8080/",
          "height": 52
        },
        "outputId": "246d04b3-48c8-4fd4-8ed0-94eced92848f"
      },
      "source": [
        "## Loading data: the interface is simple, every dataset can be load and preprocessed by calling the function\n",
        "# with its name .\n",
        "\n",
        "# 1 - Call the dataset you want, this is the only thing you need to choose\n",
        "data, nb_features, name = year_prediction()\n",
        "\n",
        "\n",
        "# 2 - Preprocessing stuff ...\n",
        "nb_features = nb_features-1\n",
        "col = str(nb_features) \n",
        "x = data.drop(col, axis=1)\n",
        "y = data[col]\n",
        "\n",
        "device = torch.device(\"cuda\" if torch.cuda.is_available() else \"cpu\")\n",
        "\n",
        "x_train, x_test, y_train, y_test = train_test_split(x, y, test_size=0.1, random_state=42)\n",
        "\n",
        "x_train = np.array(x_train, dtype='float32')\n",
        "y_train = np.array(y_train, dtype='float32')\n",
        "x_test = np.array(x_test, dtype='float32')\n",
        "y_test = np.array(y_test, dtype='float32')\n",
        "\n",
        "x_train_tensor = torch.tensor(np.array(x_train),device = device)\n",
        "y_train_tensor = torch.tensor(np.array(y_train),device = device)\n",
        "x_test_tensor = torch.tensor(np.array(x_test),device = device)\n",
        "y_test_tensor = torch.tensor(np.array(y_test),device = device)\n"
      ],
      "execution_count": 3,
      "outputs": [
        {
          "output_type": "stream",
          "text": [
            "Year_prediction_msd dataset - 515345 examples - 90 columns\n",
            "Number of Nan :0\n"
          ],
          "name": "stdout"
        }
      ]
    },
    {
      "cell_type": "markdown",
      "metadata": {
        "id": "Dpla0QJamGrT",
        "colab_type": "text"
      },
      "source": [
        "#Model Definition\n",
        "We define a 3 hidden layer neural net using the Scaled Exponential Linear Unit  activation function. We also add a residual connection."
      ]
    },
    {
      "cell_type": "code",
      "metadata": {
        "id": "ZQu2wKBcSXAK",
        "colab_type": "code",
        "colab": {}
      },
      "source": [
        "class NN(nn.Module):\n",
        "    def __init__(self, input_dim, hidden_dim, output_dim):\n",
        "        super(NN, self).__init__()\n",
        "        self.L1 = nn.Linear(input_dim, hidden_dim)\n",
        "        self.L2 = nn.Linear(hidden_dim, hidden_dim)\n",
        "        self.L3 = nn.Linear(hidden_dim, output_dim, bias = False)\n",
        "        \n",
        "    \n",
        "    def forward(self,x):\n",
        "        # return x.w + b\n",
        "        h1 = F.selu(self.L1(x)) \n",
        "        h2 = F.selu(self.L2(h1)) + h1\n",
        "        out = self.L3(h2)        \n",
        "        return out\n",
        "             \n",
        "pyro.clear_param_store()\n"
      ],
      "execution_count": 0,
      "outputs": []
    },
    {
      "cell_type": "markdown",
      "metadata": {
        "id": "9D2SuV6AmvCn",
        "colab_type": "text"
      },
      "source": [
        "Now we define the model and the guide for variational inference."
      ]
    },
    {
      "cell_type": "code",
      "metadata": {
        "id": "8FLQyIj6Sa93",
        "colab_type": "code",
        "colab": {}
      },
      "source": [
        "############### BAYESIAN LINEAR REGRESSION ############### \n",
        "\n",
        "pi = .5\n",
        "sigma1 = 1\n",
        "sigma2 = np.exp(-6)\n",
        "hidden_dim = 100\n",
        "\n",
        "neural_net = NN(nb_features,hidden_dim,1).cuda()   \n",
        "\n",
        "def model(x_data, y_data, hidden_dim):\n",
        "    # Prior distributions\n",
        "    # Setting up the fixed parameter in our scaled mixture of gaussian\n",
        "    components_logits = torch.tensor([pi,1-pi], device=device)\n",
        "    component_scale = torch.tensor([sigma1,sigma2], device=device)\n",
        "\n",
        "    loc_features_input = torch.zeros(2,nb_features,device=device)           \n",
        "    coord_scale_input = torch.cat((torch.ones(1,nb_features,device=device) * sigma1,torch.ones(1,nb_features,device=device) * sigma2),0)\n",
        "    \n",
        "    loc_features_hidden = torch.zeros(2,hidden_dim,device=device)\n",
        "    coord_scale_hidden = torch.cat((torch.ones(1,hidden_dim,device=device) * sigma1,torch.ones(1,hidden_dim,device=device) * sigma2),0)\n",
        "        \n",
        "    # 1st layer \n",
        "    scale_gaussian_w1 = MixtureOfDiagNormals(loc_features_input, coord_scale_input, components_logits).expand([hidden_dim]).to_event(1)  \n",
        "    scale_gaussian_b1 = MixtureOfDiagNormals(loc_features_hidden, coord_scale_hidden, components_logits)  \n",
        "   \n",
        "    # 2nd layer \n",
        "    scale_gaussian_w2 = MixtureOfDiagNormals(loc_features_hidden, coord_scale_hidden, components_logits).expand([hidden_dim]).to_event(1)\n",
        "    scale_gaussian_b2 = MixtureOfDiagNormals(loc_features_hidden, coord_scale_hidden, components_logits)  \n",
        "\n",
        "    # 3rd layer weight  \n",
        "    scale_gaussian_w3 = MixtureOfDiagNormals(loc_features_hidden, coord_scale_hidden, components_logits).expand([1]).to_event(1)\n",
        "\n",
        "    priors = {'L1.weight': scale_gaussian_w1, 'L1.bias': scale_gaussian_b1,\n",
        "              'L2.weight' :scale_gaussian_w2, 'L2.bias':scale_gaussian_b2,\n",
        "              'L3.weight' :scale_gaussian_w3}\n",
        "    \n",
        "    lifted_module = pyro.random_module(\"module\", neural_net, priors)\n",
        "    # sample a nn (which also samples w and b)\n",
        "    lifted_reg_model = lifted_module()\n",
        "    # Assigning priors to weights\n",
        "    with pyro.plate(\"map\", size=len(x_data)):\n",
        "        # run the nn forward on data\n",
        "        prediction_mean = lifted_reg_model(x_data).squeeze(-1)\n",
        "        # condition on the observed data\n",
        "        pyro.sample(\"obs\",\n",
        "                    Normal(prediction_mean, 1),\n",
        "                    obs=y_data)\n",
        "        return prediction_mean\n"
      ],
      "execution_count": 0,
      "outputs": []
    },
    {
      "cell_type": "code",
      "metadata": {
        "id": "C0G7vMouSdJf",
        "colab_type": "code",
        "colab": {}
      },
      "source": [
        "\n",
        "def guide(x_data, y_data, hidden_dim):    \n",
        "    # Global initilizer\n",
        "    w_input = torch.rand(hidden_dim, nb_features,device=device)\n",
        "    w_hidden = torch.rand(hidden_dim, hidden_dim, device=device)\n",
        "    w_output = torch.rand(1, hidden_dim, device=device)    \n",
        "    b = torch.rand(hidden_dim, device=device)\n",
        "    \n",
        "    # Variational posterior approximation\n",
        "    # Layer 1 \n",
        "    w1_mu = pyro.param(\"w1_mu\", w_input)\n",
        "    w1_sigma = pyro.param(\"w1_sigma\", w_input, constraint=constraints.positive)\n",
        "    b1_mu = pyro.param(\"b1_mu\", b)\n",
        "    b1_sigma = pyro.param(\"b1_sigma\", b, constraint=constraints.positive)\n",
        "    \n",
        "    # Layer 2 \n",
        "    w2_mu = pyro.param(\"w2_mu\", w_hidden)\n",
        "    w2_sigma = pyro.param(\"w2_sigma\", w_hidden, constraint=constraints.positive)    \n",
        "    b2_mu = pyro.param(\"b2_mu\", b)\n",
        "    b2_sigma = pyro.param(\"b2_sigma\", b, constraint=constraints.positive)\n",
        "        \n",
        "\n",
        "    # Layer 10 weight\n",
        "    w3_mu = pyro.param(\"w3_mu\", w_output)\n",
        "    w3_sigma = pyro.param(\"w3_sigma\", w_output, constraint=constraints.positive)\n",
        "    \n",
        "    # Latent variables\n",
        "    w1 = Normal(w1_mu, w1_sigma).to_event(2)   \n",
        "    b1 = Normal(b1_mu, b1_sigma).to_event(1)    \n",
        "    \n",
        "    w2 = Normal(w2_mu, w2_sigma).to_event(2)    \n",
        "    b2 = Normal(b2_mu, b2_sigma).to_event(1) \n",
        "    \n",
        "    w3 = Normal(w3_mu, w3_sigma).to_event(2)   \n",
        "    \n",
        "    params = {'L1.weight': w1, 'L1.bias': b1,\n",
        "              'L2.weight' :w2, 'L2.bias':b2,\n",
        "              'L3.weight' :w3}\n",
        "    # overloading the parameters in the module with random samples from the guide distributions\n",
        "    lifted_module = pyro.random_module(\"module\", neural_net, params)\n",
        "    # sample a regressor\n",
        "    return lifted_module()\n"
      ],
      "execution_count": 0,
      "outputs": []
    },
    {
      "cell_type": "markdown",
      "metadata": {
        "id": "2ldeDkY5m-Yg",
        "colab_type": "text"
      },
      "source": [
        "#Hyperparameter search\n",
        "We first run the model for 5 epochs to get a baseline score before appliying bayesian optimization."
      ]
    },
    {
      "cell_type": "code",
      "metadata": {
        "id": "GIUzISkvUkQL",
        "colab_type": "code",
        "colab": {}
      },
      "source": [
        "\n",
        "optimizer = Adam({\"lr\": 0.005})\n",
        "svi = SVI(model, guide, optimizer, loss=Trace_ELBO(), num_samples=100)\n",
        "pyro.clear_param_store()\n",
        "\n",
        "\n",
        "num_iterations = 5\n",
        "def train(num_iterations):\n",
        "    pyro.clear_param_store()\n",
        "    for j in range(num_iterations):\n",
        "        # calculate the loss and take a gradient step\n",
        "        loss = svi.step(x_train_tensor, y_train_tensor, hidden_dim)        \n",
        "\n",
        "train(num_iterations)            \n",
        "baseline_score =  svi.step(x_train_tensor, y_train_tensor, hidden_dim)"
      ],
      "execution_count": 0,
      "outputs": []
    },
    {
      "cell_type": "markdown",
      "metadata": {
        "id": "nOIxRzQ9nO_Q",
        "colab_type": "text"
      },
      "source": [
        "We then define the function to optimize. Basically we want to reduce the loss after 5 epochs, depending on learning rate and the hidden dimension. We are going to search the hidden dimention between 10 and 100 units, and the learning rate between 0.0001 and 0.01. Finaly we use the Maximum Probability of Improvement as the acquisition function in the Gaussian process."
      ]
    },
    {
      "cell_type": "code",
      "metadata": {
        "id": "DmvfugGIXLb1",
        "colab_type": "code",
        "colab": {}
      },
      "source": [
        "def model_to_optimize(x):\n",
        "  \"\"\"\n",
        "  Function to optimize with Bayesian Optimization (BO)\n",
        "  we basically run our model with different learning rate and hidden dimension.\n",
        "  \"\"\"\n",
        "  learning_rate = float(x[:,0])\n",
        "  hidden_dim = int(x[:,1])\n",
        "\n",
        "  neural_net = NN(nb_features,hidden_dim,1).cuda()   \n",
        "  optimizer = Adam({\"lr\": learning_rate})\n",
        "  svi = SVI(model, guide, optimizer, loss=Trace_ELBO(), num_samples=100)\n",
        "  pyro.clear_param_store()\n",
        "  # Training\n",
        "  num_iterations = 5\n",
        "  def train(num_iterations):\n",
        "      pyro.clear_param_store()\n",
        "      for j in range(num_iterations):\n",
        "          # calculate the loss and take a gradient step\n",
        "          loss = svi.step(x_train_tensor, y_train_tensor, hidden_dim)\n",
        "\n",
        "          train(num_iterations)\n",
        "  # Evaluating the trained model after 5 epochs      \n",
        "  loss =  svi.step(x_train_tensor, y_train_tensor, hidden_dim)  \n",
        "  return loss\n",
        "\n",
        "\n",
        "bounds = [\n",
        "            {'name': 'learning_rate', 'type': 'continuous', 'domain': (10**-4,10**-2)},\n",
        "            {'name': 'hidden_dim', 'type': 'discrete', 'domain': np.arange(10,100)},\n",
        "         ]\n",
        "\n",
        "optimizer = GPyOpt.methods.BayesianOptimization(f=model_to_optimize, domain=bounds,\n",
        "                                                        acquisition_type = 'MPI',\n",
        "                                                        acquisition_par = 0.1,                                                    \n",
        "                                                        model_type='GP')\n",
        "\n",
        "\n"
      ],
      "execution_count": 0,
      "outputs": []
    },
    {
      "cell_type": "markdown",
      "metadata": {
        "id": "Md_BLHXrox3Q",
        "colab_type": "text"
      },
      "source": [
        "We run Bayesian optimization for 20 iteration and display the found hyperparameters and the performance boost when comparing with the baseline score."
      ]
    },
    {
      "cell_type": "code",
      "metadata": {
        "id": "_eHNC7_VuU5U",
        "colab_type": "code",
        "colab": {
          "base_uri": "https://localhost:8080/",
          "height": 402
        },
        "outputId": "b98d569e-60c4-4a69-e536-eda8c044edbb"
      },
      "source": [
        "optimizer.run_optimization(max_iter=20, eps=-1)\n",
        "\n",
        "## Bayesian Optimization Evaluation\n",
        "\n",
        "best_hyperparameters = optimizer.X[np.argmin(optimizer.Y)]\n",
        "performance_boost_20_run = (baseline_score/np.min(optimizer.Y) -1)*100\n",
        "print(\"best learning rate: {}\".format(best_hyperparameters[0]))\n",
        "print(\"best hidden dimension: {}\".format(best_hyperparameters[1]))\n",
        "print(\"The performance boost after 20 iteration is : {} %\".format(np.floor(performance_boost_20_run)))\n",
        "\n",
        "# Plot the optimizer convergence\n",
        "# two graphs, the first describe the distance between a set of hyperparameters\n",
        "# at a given evaluation to another; the second graph shows an evolution\n",
        "# of the value of the lowest loss we found.\n",
        "optimizer.plot_convergence()"
      ],
      "execution_count": 9,
      "outputs": [
        {
          "output_type": "stream",
          "text": [
            "best learning rate: 0.01\n",
            "best hidden dimension: 47.0\n",
            "The performance boost after 20 iteration is : 4578.0 %\n"
          ],
          "name": "stdout"
        },
        {
          "output_type": "display_data",
          "data": {
            "image/png": "[encoded data removed]",
            "text/plain": [
              "<Figure size 720x360 with 2 Axes>"
            ]
          },
          "metadata": {
            "tags": []
          }
        }
      ]
    },
    {
      "cell_type": "markdown",
      "metadata": {
        "id": "IJzSFL0WpZFA",
        "colab_type": "text"
      },
      "source": [
        "#Training"
      ]
    },
    {
      "cell_type": "code",
      "metadata": {
        "id": "vEFIWDEquYDN",
        "colab_type": "code",
        "colab": {
          "base_uri": "https://localhost:8080/",
          "height": 1000
        },
        "outputId": "d3bbda26-e6c9-42cf-ffda-a0e705710d8d"
      },
      "source": [
        "## Training with optimal hyperparameters\n",
        "optimizer = Adam({\"lr\": best_hyperparameters[0]})\n",
        "svi = SVI(model, guide, optimizer, loss=Trace_ELBO(), num_samples=100)\n",
        "pyro.clear_param_store()\n",
        "\n",
        "hidden_dim = int(best_hyperparameters[1])\n",
        "neural_net = NN(nb_features,hidden_dim,1).cuda()   \n",
        "\n",
        "num_iterations = 35000\n",
        "losses = []\n",
        "batch_size = len(x_train_tensor)\n",
        "def train(num_iterations):\n",
        "    pyro.clear_param_store()\n",
        "    for j in range(num_iterations):\n",
        "        # calculate the loss and take a gradient step\n",
        "        loss = svi.step(x_train_tensor, y_train_tensor, hidden_dim)\n",
        "        losses.append(loss)\n",
        "        if j % 500 == 0:\n",
        "            print(\"[iteration %04d] loss: %.4f\" % (j + 1, loss / batch_size))\n",
        "\n",
        "train(num_iterations)"
      ],
      "execution_count": 10,
      "outputs": [
        {
          "output_type": "stream",
          "text": [
            "[iteration 0001] loss: 6360252561425.7539\n",
            "[iteration 0501] loss: 8268386176.4009\n",
            "[iteration 1001] loss: 10242549220.8405\n",
            "[iteration 1501] loss: 2472241007.7718\n",
            "[iteration 2001] loss: 246791252.1601\n",
            "[iteration 2501] loss: 138727692.2510\n",
            "[iteration 3001] loss: 101386485.8641\n",
            "[iteration 3501] loss: 148123553.5715\n",
            "[iteration 4001] loss: 38825309.6086\n",
            "[iteration 4501] loss: 104088724.1601\n",
            "[iteration 5001] loss: 33752721.1910\n",
            "[iteration 5501] loss: 189221628.6446\n",
            "[iteration 6001] loss: 41391462.0428\n",
            "[iteration 6501] loss: 20588144.6569\n",
            "[iteration 7001] loss: 19488951.8784\n",
            "[iteration 7501] loss: 11101654.0050\n",
            "[iteration 8001] loss: 7054717.1986\n",
            "[iteration 8501] loss: 5702544.5236\n",
            "[iteration 9001] loss: 3300708.6922\n",
            "[iteration 9501] loss: 10853907.8327\n",
            "[iteration 10001] loss: 5386587.5565\n",
            "[iteration 10501] loss: 2200526.5367\n",
            "[iteration 11001] loss: 3244207.6484\n",
            "[iteration 11501] loss: 2416597.3766\n",
            "[iteration 12001] loss: 5135888.2300\n",
            "[iteration 12501] loss: 2748739.8893\n",
            "[iteration 13001] loss: 2000376.8152\n",
            "[iteration 13501] loss: 2192434.0448\n",
            "[iteration 14001] loss: 1826760.0678\n",
            "[iteration 14501] loss: 1031363.3521\n",
            "[iteration 15001] loss: 916468.2679\n",
            "[iteration 15501] loss: 325104.3963\n",
            "[iteration 16001] loss: 919261.4706\n",
            "[iteration 16501] loss: 1938293.0453\n",
            "[iteration 17001] loss: 545683.9720\n",
            "[iteration 17501] loss: 831352.3499\n",
            "[iteration 18001] loss: 172110.0989\n",
            "[iteration 18501] loss: 99021.5780\n",
            "[iteration 19001] loss: 874061.8671\n",
            "[iteration 19501] loss: 1347927.8657\n",
            "[iteration 20001] loss: 1493233.3492\n",
            "[iteration 20501] loss: 159858.2996\n",
            "[iteration 21001] loss: 378724.2112\n",
            "[iteration 21501] loss: 654812.2043\n",
            "[iteration 22001] loss: 16412.2786\n",
            "[iteration 22501] loss: 39658.7360\n",
            "[iteration 23001] loss: 113870.0145\n",
            "[iteration 23501] loss: 133518.7653\n",
            "[iteration 24001] loss: 67454.1607\n",
            "[iteration 24501] loss: 749409.3442\n",
            "[iteration 25001] loss: 101177.0564\n",
            "[iteration 25501] loss: 286255.6158\n",
            "[iteration 26001] loss: 10644.5236\n",
            "[iteration 26501] loss: 107787.9913\n",
            "[iteration 27001] loss: 20029.1181\n",
            "[iteration 27501] loss: 312.8804\n",
            "[iteration 28001] loss: 5146.6796\n",
            "[iteration 28501] loss: 1100.8787\n",
            "[iteration 29001] loss: 596.4414\n",
            "[iteration 29501] loss: 4301.0815\n",
            "[iteration 30001] loss: 287.9859\n",
            "[iteration 30501] loss: 1244.7869\n",
            "[iteration 31001] loss: 5387.1994\n",
            "[iteration 31501] loss: 1128.2439\n",
            "[iteration 32001] loss: 197.9253\n",
            "[iteration 32501] loss: 3924.7722\n",
            "[iteration 33001] loss: 892.6314\n",
            "[iteration 33501] loss: 1197.8327\n",
            "[iteration 34001] loss: 1369.2128\n",
            "[iteration 34501] loss: 417.9033\n"
          ],
          "name": "stdout"
        }
      ]
    },
    {
      "cell_type": "code",
      "metadata": {
        "id": "9Od2CGMDvd5a",
        "colab_type": "code",
        "colab": {
          "base_uri": "https://localhost:8080/",
          "height": 311
        },
        "outputId": "7bc4f273-185f-4fec-fd55-4dc25a47548d"
      },
      "source": [
        "# Displaying the ELBO given epochs\n",
        "len_loss = len(losses)\n",
        "print(\"loss length: {}\".format(len_loss))\n",
        "cost = np.array(losses)    \n",
        "t = np.arange(len_loss)    \n",
        "plt.plot(t,cost)"
      ],
      "execution_count": 352,
      "outputs": [
        {
          "output_type": "stream",
          "text": [
            "loss length: 35000\n"
          ],
          "name": "stdout"
        },
        {
          "output_type": "execute_result",
          "data": {
            "text/plain": [
              "[<matplotlib.lines.Line2D at 0x7f3200f2ff60>]"
            ]
          },
          "metadata": {
            "tags": []
          },
          "execution_count": 352
        },
        {
          "output_type": "display_data",
          "data": {
            "image/png": "[encoded data removed]",
            "text/plain": [
              "<Figure size 432x288 with 1 Axes>"
            ]
          },
          "metadata": {
            "tags": []
          }
        }
      ]
    },
    {
      "cell_type": "code",
      "metadata": {
        "id": "Hw4C41DoP-8J",
        "colab_type": "code",
        "colab": {}
      },
      "source": [
        "torch.save(neural_net, 'neural_net_BbB_2')"
      ],
      "execution_count": 0,
      "outputs": []
    },
    {
      "cell_type": "code",
      "metadata": {
        "id": "Dyi-FmXQxUlv",
        "colab_type": "code",
        "colab": {}
      },
      "source": [
        "\n",
        "######### Evaluate the model\n",
        "# Those utility functions are going to be used further the line to evaluate the predictions.\n",
        "get_marginal = lambda traces, sites:EmpiricalMarginal(traces, sites)._get_samples_and_weights()[0].detach().cpu().numpy()\n",
        "\n",
        "def picp(y, y_lower, y_upper):\n",
        "    batch_size = len(y)\n",
        "    k = np.zeros(batch_size)\n",
        "    for i in range(batch_size):\n",
        "        k[i] = y_lower[i] <= y[i] <= y_upper[i]\n",
        "    return np.mean(k)\n",
        "\n",
        "def mpiw(y_lower, y_upper):\n",
        "    return np.mean(y_upper-y_lower)\n",
        "\n",
        "def wrapped_model(x_data, y_data, hidden_dim):\n",
        "    pyro.sample(\"prediction\", Delta(model(x_data, y_data, hidden_dim)))\n",
        "    "
      ],
      "execution_count": 0,
      "outputs": []
    },
    {
      "cell_type": "code",
      "metadata": {
        "id": "zSUrUtGl7WLA",
        "colab_type": "code",
        "colab": {}
      },
      "source": [
        "posterior = svi.run(x_test_tensor, y_test_tensor, hidden_dim)\n",
        "\n",
        "trace_pred = TracePredictive(wrapped_model,\n",
        "                             posterior,\n",
        "                             num_samples=1000)\n",
        "\n",
        "\n",
        "post_pred_test = trace_pred.run(x_test_tensor, None, hidden_dim)\n",
        "marginal_test = get_marginal(post_pred_test, sites= ['prediction', 'obs'])\n",
        "sampled_prediction_test = marginal_test[:,1]\n"
      ],
      "execution_count": 0,
      "outputs": []
    },
    {
      "cell_type": "code",
      "metadata": {
        "id": "_PFjv1Qi0qY6",
        "colab_type": "code",
        "colab": {}
      },
      "source": [
        "## Split the evaluations\n",
        "marginal_site = pd.DataFrame(sampled_prediction_test).transpose()\n",
        "describe = partial(pd.Series.describe, percentiles=[.025, 0.5, 0.975])\n",
        "summary = marginal_site.apply(describe, axis=1)[[\"mean\", \"std\", \"2.5%\", \"50%\", \"97.5%\"]]\n",
        "\n",
        "y_test_lower = np.array(summary['2.5%'])\n",
        "y_test_upper = np.array(summary['97.5%'])\n",
        "y_test_mean =  np.array(summary['mean'])\n",
        "\n",
        "proba_coverage_test = picp(y_test, y_test_lower, y_test_upper)\n",
        "interval_predicted_test = mpiw(y_test_lower, y_test_upper)\n",
        "rmse_test = np.mean(np.sqrt(np.power((y_test_mean-y_test),2)))\n",
        "\n",
        "interval_def = np.max(y) - np.min(y)"
      ],
      "execution_count": 0,
      "outputs": []
    },
    {
      "cell_type": "code",
      "metadata": {
        "id": "mI6ukTd5xm7s",
        "colab_type": "code",
        "colab": {
          "base_uri": "https://localhost:8080/",
          "height": 104
        },
        "outputId": "46a2daa0-caf5-4b62-fee8-9c597c36083e"
      },
      "source": [
        "print(\"{} dataset\".format(name))\n",
        "print(\"Prediction Interval Coverage Probability (PICP): {}\".format(proba_coverage_test))\n",
        "print(\"Mean Prediction Interval Width (MPIW): {}\".format(interval_predicted_test))\n",
        "print(\"Natural Interval Width of Data: {}\".format(interval_def))\n",
        "print(\"Root Mean Square Error (RMSE): {}\".format(rmse_test))\n"
      ],
      "execution_count": 386,
      "outputs": [
        {
          "output_type": "stream",
          "text": [
            "Concrete Strength dataset\n",
            "Prediction Interval Coverage Probability (PICP): 1.0\n",
            "Mean Prediction Interval Width (MPIW): 9479.054434826303\n",
            "Natural Interval Width of Data: 80.27\n",
            "Root Mean Square Error (RMSE): 124.916060280742\n"
          ],
          "name": "stdout"
        }
      ]
    },
    {
      "cell_type": "code",
      "metadata": {
        "id": "Daq6WafuxrYN",
        "colab_type": "code",
        "colab": {}
      },
      "source": [
        ""
      ],
      "execution_count": 0,
      "outputs": []
    }
  ]
}