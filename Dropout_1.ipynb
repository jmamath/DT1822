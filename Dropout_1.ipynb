{
  "nbformat": 4,
  "nbformat_minor": 0,
  "metadata": {
    "colab": {
      "name": "Dropout_1.ipynb",
      "version": "0.3.2",
      "provenance": [],
      "collapsed_sections": []
    },
    "kernelspec": {
      "name": "python3",
      "display_name": "Python 3"
    },
    "accelerator": "GPU"
  },
  "cells": [
    {
      "cell_type": "markdown",
      "metadata": {
        "id": "8d4zU_2et0_7",
        "colab_type": "text"
      },
      "source": [
        "#Downloading required packages\n"
      ]
    },
    {
      "cell_type": "code",
      "metadata": {
        "id": "4x4KLlljXrcR",
        "colab_type": "code",
        "outputId": "0663fb4e-fd4e-401e-fa13-fbb886d02111",
        "colab": {
          "base_uri": "https://localhost:8080/",
          "height": 383
        }
      },
      "source": [
        "### Installing required packages\n",
        "!pip install pyro-ppl==0.3.2\n",
        "!pip install gpyopt\n",
        "!pip install pycuda"
      ],
      "execution_count": 0,
      "outputs": [
        {
          "output_type": "stream",
          "text": [
            "Collecting pyro-ppl==0.3.2\n",
            "\u001b[?25l  Downloading https://files.pythonhosted.org/packages/3e/df/9d49d1fa8d4e47d473c801bf22f9d2a433a0e61c609bedc5681ae0e22e76/pyro-ppl-0.3.2.tar.gz (230kB)\n",
            "\u001b[K     |████████████████████████████████| 235kB 9.8MB/s \n",
            "\u001b[?25hRequirement already satisfied: contextlib2 in /usr/local/lib/python3.6/dist-packages (from pyro-ppl==0.3.2) (0.5.5)\n",
            "Requirement already satisfied: graphviz>=0.8 in /usr/local/lib/python3.6/dist-packages (from pyro-ppl==0.3.2) (0.10.1)\n",
            "Requirement already satisfied: numpy>=1.7 in /usr/local/lib/python3.6/dist-packages (from pyro-ppl==0.3.2) (1.16.4)\n",
            "Collecting opt_einsum>=2.3.2 (from pyro-ppl==0.3.2)\n",
            "\u001b[?25l  Downloading https://files.pythonhosted.org/packages/f6/d6/44792ec668bcda7d91913c75237314e688f70415ab2acd7172c845f0b24f/opt_einsum-2.3.2.tar.gz (59kB)\n",
            "\u001b[K     |████████████████████████████████| 61kB 24.4MB/s \n",
            "\u001b[?25hRequirement already satisfied: six>=1.10.0 in /usr/local/lib/python3.6/dist-packages (from pyro-ppl==0.3.2) (1.12.0)\n",
            "Requirement already satisfied: torch>=1.0.1 in /usr/local/lib/python3.6/dist-packages (from pyro-ppl==0.3.2) (1.1.0)\n",
            "Requirement already satisfied: tqdm>=4.28 in /usr/local/lib/python3.6/dist-packages (from pyro-ppl==0.3.2) (4.28.1)\n",
            "Building wheels for collected packages: pyro-ppl, opt-einsum\n",
            "  Building wheel for pyro-ppl (setup.py) ... \u001b[?25l\u001b[?25hdone\n",
            "  Stored in directory: /root/.cache/pip/wheels/7f/2f/21/9f840307c05be374f101b0e4aee2db0596437fe2ade0334c2f\n",
            "  Building wheel for opt-einsum (setup.py) ... \u001b[?25l\u001b[?25hdone\n",
            "  Stored in directory: /root/.cache/pip/wheels/51/3e/a3/b351fae0cbf15373c2136a54a70f43fea5fe91d8168a5faaa4\n",
            "Successfully built pyro-ppl opt-einsum\n",
            "Installing collected packages: opt-einsum, pyro-ppl\n",
            "Successfully installed opt-einsum-2.3.2 pyro-ppl-0.3.2\n"
          ],
          "name": "stdout"
        }
      ]
    },
    {
      "cell_type": "markdown",
      "metadata": {
        "id": "Hkyuy4TYuAWb",
        "colab_type": "text"
      },
      "source": [
        "#Loading libraries\n"
      ]
    },
    {
      "cell_type": "code",
      "metadata": {
        "id": "JsNCQxz7X9pJ",
        "colab_type": "code",
        "colab": {}
      },
      "source": [
        "import pandas as pd\n",
        "import torch\n",
        "import torch.nn as nn\n",
        "import numpy as np\n",
        "import matplotlib.pyplot as plt\n",
        "import torch.optim as optim\n",
        "from torch.distributions import  Bernoulli\n",
        "from functools import partial\n",
        "from sklearn.model_selection import train_test_split\n",
        "import torch.nn.functional as F\n",
        "import fileinput\n",
        "import requests\n",
        "import GPyOpt\n",
        "import pycuda.driver as cuda\n",
        "cuda.init()"
      ],
      "execution_count": 0,
      "outputs": []
    },
    {
      "cell_type": "markdown",
      "metadata": {
        "id": "bifPIPVNuHIG",
        "colab_type": "text"
      },
      "source": [
        "#Loading data\n",
        "\n",
        "This is mostly boiler plate code, except for the boston and yacht datasets, every data is read directly from the source on github. For the case of boston and yacht datasets, we download them locally to fix some issues concerning the separator between each columns.\n",
        "\n",
        "Each dataset call is then associated to a function."
      ]
    },
    {
      "cell_type": "code",
      "metadata": {
        "id": "jwdlNjVIX_YO",
        "colab_type": "code",
        "colab": {}
      },
      "source": [
        "### Loading data \n",
        "\"\"\" \n",
        "This is mostly boiler plate code, except the boston and yacht datasets, every data is read directly from the \n",
        "source on github. For the case of boston and yacht datasets, we download them locally to fix some issues concerning\n",
        "the separator between each columns.\n",
        "\"\"\"\n",
        "boston_url = \"https://media.githubusercontent.com/media/probabilisticai/dt8122/master/datasets/boston_housing.txt\"\n",
        "concrete_url = \"https://media.githubusercontent.com/media/probabilisticai/dt8122/master/datasets/concrete.txt\"\n",
        "energy_url = \"https://media.githubusercontent.com/media/probabilisticai/dt8122/master/datasets/energy_heating_load.txt\"\n",
        "kin8_url = \"https://media.githubusercontent.com/media/probabilisticai/dt8122/master/datasets/kin8nm.txt\"\n",
        "naval_url = \"https://media.githubusercontent.com/media/probabilisticai/dt8122/master/datasets/naval_compressor_decay.txt\"\n",
        "power_url = \"https://media.githubusercontent.com/media/probabilisticai/dt8122/master/datasets/power.txt\"\n",
        "protein_url = \"https://media.githubusercontent.com/media/probabilisticai/dt8122/master/datasets/protein.txt\"\n",
        "wine_url = \"https://media.githubusercontent.com/media/probabilisticai/dt8122/master/datasets/wine.txt\"\n",
        "yacht_url = \"https://media.githubusercontent.com/media/probabilisticai/dt8122/master/datasets/yacht.txt\"\n",
        "year_prediction_url = \"https://media.githubusercontent.com/media/probabilisticai/dt8122/master/datasets/year_prediction_msd.txt\"\n",
        "\n",
        "\n",
        "def boston():\n",
        "  r = requests.get(boston_url)\n",
        "  with open('/content/boston.txt', 'wb') as f:  \n",
        "    f.write(r.content)\n",
        "  with fileinput.FileInput(\"boston.txt\", inplace=True, backup='.bak') as file:\n",
        "    for line in file:\n",
        "        print(line.replace(\"   \", \" \"), end='')\n",
        "  bos = [str(i) for i in range(14)]\n",
        "  boston = pd.read_csv('boston.txt', sep=\"  | \",names = bos, header=None)\n",
        "  print(\"Boston dataset - {} examples - 14 columns\".format(len(boston)))\n",
        "  print(\"Number of Nan :{}\".format(boston.isna().sum().sum())) \n",
        "  return boston, 14\n",
        "\n",
        "def concrete():\n",
        "  conc = [str(i) for i in range(9)]\n",
        "  concrete = pd.read_csv(concrete_url, sep=\" |\\t\",names = conc, header=None)\n",
        "  print(\"Concrete dataset - {} examples - 9 columns\".format(len(concrete)))\n",
        "  print(\"Number of Nan :{}\".format(concrete.isna().sum().sum())) \n",
        "  return concrete, 9\n",
        "\n",
        "def energy():  \n",
        "  ener = [str(i) for i in range(9)]\n",
        "  energy = pd.read_csv(energy_url, sep=\" |\\t\",names = ener, header=None)\n",
        "  print(\"Energy dataset - {} examples - 9 columns\".format(len(energy)))\n",
        "  print(\"Number of Nan :{}\".format(energy.isna().sum().sum())) \n",
        "  return energy, 9\n",
        "\n",
        "def kin8nm():\n",
        "  kin8 = [str(i) for i in range(9)]\n",
        "  kin8nm = pd.read_csv(kin8_url, sep=\"   |  \",names = kin8, header=None)\n",
        "  print(\"Kin8nm dataset - {} examples - 10 columns\".format(len(kin8nm)))\n",
        "  print(\"Number of Nan :{}\".format(kin8nm.isna().sum().sum())) \n",
        "  return kin8nm, 9\n",
        "\n",
        "def naval():\n",
        "  nav = [str(i) for i in range(17)]\n",
        "  naval = pd.read_csv(naval_url, sep=\" |\\t\", names = nav, header=None)\n",
        "  print(\"Naval dataset - {} examples - 17 columns\".format(len(naval)))\n",
        "  print(\"Number of Nan :{}\".format(naval.isna().sum().sum())) \n",
        "  return naval, 17\n",
        "\n",
        "def power():\n",
        "  pow = [str(i) for i in range(5)]\n",
        "  power = pd.read_csv(power_url, sep=\" |\\t\", names = pow, header=None)\n",
        "  print(\"Power dataset - {} examples - 5 columns\".format(len(power)))\n",
        "  print(\"Number of Nan :{}\".format(power.isna().sum().sum())) \n",
        "  return power, 5\n",
        "\n",
        "def protein():\n",
        "  prot = [str(i) for i in range(10)]\n",
        "  protein = pd.read_csv(protein_url, sep=\" |\\t\", names = prot, header=None)\n",
        "  print(\"Protein dataset - {} examples - 10 columns\".format(len(protein)))\n",
        "  print(\"Number of Nan :{}\".format(protein.isna().sum().sum())) \n",
        "  return protein, 10\n",
        "\n",
        "def wine():\n",
        "  w = [str(i) for i in range(12)]\n",
        "  wine = pd.read_csv(wine_url, sep=\" |\\t\", names = w, header=None)\n",
        "  print(\"Wine dataset - {} examples - 12 columns\".format(len(wine)))\n",
        "  print(\"Number of Nan :{}\".format(wine.isna().sum().sum())) \n",
        "  return wine, 12\n",
        "\n",
        "def yacht(): \n",
        "  r = requests.get(yacht_url)\n",
        "  with open('/content/yacht.txt', 'wb') as f:  \n",
        "      f.write(r.content) \n",
        "  with fileinput.FileInput(\"yacht.txt\", inplace=True, backup='.bak') as file:\n",
        "    for line in file:\n",
        "        print(line.replace(\"  \", \" \"), end='')\n",
        "  ya = [str(i) for i in range(7)]        \n",
        "  yacht = pd.read_csv('yacht.txt', sep=\" \", names = ya, header=None)\n",
        "  print(\"Yacht dataset - {} examples - 7 columns\".format(len(yacht)))\n",
        "  print(\"Number of Nan :{}\".format(yacht.isna().sum().sum())) \n",
        "  return yacht, 7, \n",
        "\n",
        "def year_prediction():\n",
        "  year = [str(i) for i in range(90)]\n",
        "  year_prediction = pd.read_csv(year_prediction_url, sep=\" \", names = year, header=None)\n",
        "  print(\"Year_prediction_msd dataset - {} examples - 90 columns\".format(len(year_prediction)))\n",
        "  print(\"Number of Nan :{}\".format(year_prediction.isna().sum().sum())) \n",
        "  return year_prediction, 90\n",
        "\n",
        "\n",
        "  "
      ],
      "execution_count": 0,
      "outputs": []
    },
    {
      "cell_type": "markdown",
      "metadata": {
        "id": "zWyWhq2GuXRG",
        "colab_type": "text"
      },
      "source": [
        "Here you can select the dataset you want to load in by selecting the appropriate function. The rest of the code is going to split a training and test set, and then put the data in cuda tensors."
      ]
    },
    {
      "cell_type": "code",
      "metadata": {
        "id": "JP8Um4brX_bI",
        "colab_type": "code",
        "outputId": "a0366778-fc87-4037-cae8-a71fbb773a56",
        "colab": {
          "base_uri": "https://localhost:8080/",
          "height": 52
        }
      },
      "source": [
        "data, nb_features = year_prediction()\n",
        "nb_features = nb_features-1\n",
        "col = str(nb_features) \n",
        "x = data.drop(col, axis=1)\n",
        "y = data[col]\n",
        "\n",
        "device = torch.device(\"cuda\" if torch.cuda.is_available() else \"cpu\")\n",
        "torch.set_default_tensor_type('torch.cuda.FloatTensor')\n",
        "\n",
        "x_train, x_test, y_train, y_test = train_test_split(x, y, test_size=0.1, random_state=42)\n",
        "\n",
        "x_train = np.array(x_train, dtype='float32')\n",
        "y_train = np.array(y_train, dtype='float32')\n",
        "x_test = np.array(x_test, dtype='float32')\n",
        "y_test = np.array(y_test, dtype='float32')\n",
        "\n",
        "x_train_tensor = torch.tensor(np.array(x_train),device = device)\n",
        "y_train_tensor = torch.tensor(np.array(y_train),device = device)\n",
        "x_test_tensor = torch.tensor(np.array(x_test), device = device)\n",
        "y_test_tensor = torch.tensor(np.array(y_test), device = device)\n",
        "\n"
      ],
      "execution_count": 0,
      "outputs": [
        {
          "output_type": "stream",
          "text": [
            "Year_prediction_msd dataset - 515345 examples - 90 columns\n",
            "Number of Nan :0\n"
          ],
          "name": "stdout"
        }
      ]
    },
    {
      "cell_type": "markdown",
      "metadata": {
        "id": "ag7ZdRAPueYJ",
        "colab_type": "text"
      },
      "source": [
        "#Model Definition\n",
        "We define a 3 hidden layer neural net using the Scaled Exponential Linear Unit  activation function. We also add a residual connection."
      ]
    },
    {
      "cell_type": "code",
      "metadata": {
        "id": "Gzh6gvjKX_eI",
        "colab_type": "code",
        "colab": {}
      },
      "source": [
        "# Model\n",
        "\n",
        "class VariationalDropout(nn.Module):\n",
        "    def __init__(self, input_dim, output_dim, keep_prob, model_lambda):\n",
        "        super(VariationalDropout, self).__init__()\n",
        "        self.M = nn.Parameter(torch.rand(input_dim, output_dim))\n",
        "        self.m = nn.Parameter(torch.zeros(output_dim))\n",
        "        self.keep_prob = keep_prob\n",
        "        self.bernoulli = Bernoulli(probs=keep_prob)\n",
        "        self.model_lambda = model_lambda\n",
        "        self.input_dim = input_dim\n",
        "    \n",
        "    def forward(self,x):\n",
        "        # return x.w + b\n",
        "        W = torch.mm(torch.diag(self.bernoulli.sample([self.input_dim])), self.M)\n",
        "        return torch.mm(x, W)+ self.m\n",
        "    \n",
        "    @property\n",
        "    def regularization(self):\n",
        "        return self.model_lambda * (\n",
        "                self.keep_prob * torch.sum(torch.pow(self.M,2))+ \n",
        "                torch.sum(torch.pow(self.m,2))\n",
        "                )\n",
        "\n",
        "class DeepVariationalDropout(nn.Module):\n",
        "    def __init__(self, input_dim, hidden_dim, output_dim, keep_prob, model_lambda):\n",
        "        super(DeepVariationalDropout, self).__init__()\n",
        "        self.L1 = VariationalDropout(input_dim,hidden_dim,keep_prob, model_lambda).cuda()\n",
        "        self.L2 = VariationalDropout(hidden_dim,hidden_dim,keep_prob, model_lambda).cuda()\n",
        "        self.L3 = VariationalDropout(hidden_dim, 1,keep_prob, model_lambda).cuda()\n",
        "\n",
        "    \n",
        "    def forward(self,x):\n",
        "        h1 = F.selu(self.L1(x))\n",
        "        h2 = F.selu(self.L2(h1)) \n",
        "        out = self.L3(h2) \n",
        "        return out\n",
        "    \n",
        "    @property\n",
        "    def regularization(self):\n",
        "        return self.L1.regularization + self.L2.regularization + self.L3.regularization\n"
      ],
      "execution_count": 0,
      "outputs": []
    },
    {
      "cell_type": "markdown",
      "metadata": {
        "id": "POcXf1qEu3wo",
        "colab_type": "text"
      },
      "source": [
        "#Hyperparameter search\n",
        "We first run the model for 5 epochs to get a baseline score before appliying bayesian optimization."
      ]
    },
    {
      "cell_type": "code",
      "metadata": {
        "id": "v1zI2EEBX4o8",
        "colab_type": "code",
        "colab": {}
      },
      "source": [
        "## Baseline neural net\n",
        "model_lambda = 1e-2\n",
        "keep_prob = .8    \n",
        "hidden_dim = 100\n",
        "\n",
        "neural_net = DeepVariationalDropout(nb_features, hidden_dim, 1, keep_prob, model_lambda).cuda()\n",
        "\n",
        "criterion = nn.MSELoss()  \n",
        "optimizer = optim.Adam(neural_net.parameters(), lr=0.0001)\n",
        "\n",
        "# Training\n",
        "epochs = 5\n",
        "\n",
        "for i in range(epochs):\n",
        "    # Zero the gradients before running the backward pass.\n",
        "    neural_net.zero_grad()\n",
        "\n",
        "    # Forward propagation\n",
        "    out = neural_net(x_train_tensor).squeeze(-1)\n",
        "    rmse =  criterion(y_train_tensor,out)\n",
        "    loss = rmse + neural_net.regularization\n",
        "    # Backward pass: compute gradient of the loss with respect to all the learnable\n",
        "    # parameters of the model. Internally, the parameters of each Module are stored\n",
        "    # in Tensors with requires_grad=Trupae, so this call will compute gradients for\n",
        "    # all learnable parameters in the model.\n",
        "    loss.backward(retain_graph=True)\n",
        "    # Update the weights using gradient descent. Each parameter is a Tensor, so\n",
        "    # we can access its gradients like we did before.\n",
        "    optimizer.step()\n",
        "\n",
        "rmse =  criterion(y_train_tensor,out)\n",
        "loss = rmse + neural_net.regularization\n",
        "baseline_score = loss.detach().cpu().numpy()"
      ],
      "execution_count": 0,
      "outputs": []
    },
    {
      "cell_type": "markdown",
      "metadata": {
        "id": "TNGak0ynvGH0",
        "colab_type": "text"
      },
      "source": [
        "We then define the function to optimize. Basically we want to reduce the loss after 5 epochs, depending on learning rate and the hidden dimension. We are going to search the model $\\lambda$ between 0.001 and 0.1, and the learning rate between 0.0001 and 0.01. Finaly we use the Maximum Probability of Improvement as the acquisition function in the Gaussian process."
      ]
    },
    {
      "cell_type": "code",
      "metadata": {
        "id": "rx782QBtX_hA",
        "colab_type": "code",
        "colab": {}
      },
      "source": [
        "keep_prob = .8    \n",
        "hidden_dim = 100\n",
        "\n",
        "def model_to_optimize(x):\n",
        "  \"\"\"\n",
        "  Function to optimize with Bayesian Optimization (BO)\n",
        "  we basically run our model with different model_lambda and different learning rate.\n",
        "  \"\"\"\n",
        "  learning_rate = float(x[:,0])\n",
        "  model_lambda = float(x[:,1])\n",
        "  neural_net = DeepVariationalDropout(nb_features, hidden_dim, 1, keep_prob, model_lambda).cuda()\n",
        "  criterion = nn.MSELoss()  \n",
        "  optimizer = optim.Adam(neural_net.parameters(), lr=learning_rate)\n",
        "  # Training\n",
        "  epochs = 5\n",
        "  for i in range(epochs):\n",
        "      # Zero the gradients before running the backward pass.\n",
        "      neural_net.zero_grad()\n",
        "\n",
        "      # Forward propagation\n",
        "      out = neural_net(x_train_tensor).squeeze(-1)\n",
        "      rmse =  criterion(y_train_tensor,out)\n",
        "      loss = rmse + neural_net.regularization\n",
        "      loss.backward(retain_graph=True) \n",
        "      # Update the weights using gradient descent. Each parameter is a Tensor, so\n",
        "      # we can access its gradients like we did before.\n",
        "      optimizer.step()\n",
        "  # Evaluating the trained model after 5 epochs      \n",
        "  rmse =  criterion(y_train_tensor,out)\n",
        "  loss = rmse + neural_net.regularization \n",
        "  \n",
        "  return loss.detach().cpu().numpy()\n",
        "\n",
        "\n",
        "bounds = [\n",
        "            {'name': 'learning_rate', 'type': 'continuous', 'domain': (10**-4,10**-2)},\n",
        "            {'name': 'model_lambda', 'type': 'continuous', 'domain': (10**-3,10**-1)}\n",
        "         ]\n",
        "optimizer = GPyOpt.methods.BayesianOptimization(f=model_to_optimize, domain=bounds,\n",
        "                                                        acquisition_type = 'MPI',\n",
        "                                                        acquisition_par = 0.1,                                                    \n",
        "                                                        model_type='GP')\n",
        "\n",
        "\n",
        "\n",
        "\n",
        "\n",
        "\n"
      ],
      "execution_count": 0,
      "outputs": []
    },
    {
      "cell_type": "code",
      "metadata": {
        "id": "xOK0coJ6XC0Q",
        "colab_type": "code",
        "outputId": "0f33b194-8248-42b8-8be2-afe2dfa24cad",
        "colab": {
          "base_uri": "https://localhost:8080/",
          "height": 402
        }
      },
      "source": [
        "optimizer.run_optimization(max_iter=20, eps=-1)\n",
        "\n",
        "## Bayesian Optimization Evaluation\n",
        "\n",
        "best_hyperparameters = optimizer.X[np.argmin(optimizer.Y)]\n",
        "performance_boost_20_run = (baseline_score/np.min(optimizer.Y) -1)*100\n",
        "print(\"best learning rate: {}\".format(best_hyperparameters[0]))\n",
        "print(\"best model lambda: {}\".format(best_hyperparameters[1]))\n",
        "print(\"The performance boost after 20 iteration is : {} %\".format(np.floor(performance_boost_20_run)))\n",
        "\n",
        "# Plot the optimizer convergence\n",
        "# two graphs, the first describe the distance between a set of hyperparameters\n",
        "# at a given evaluation to another; the second graph shows an evolution\n",
        "# of the value of the lowest loss we found.\n",
        "optimizer.plot_convergence()"
      ],
      "execution_count": 0,
      "outputs": [
        {
          "output_type": "stream",
          "text": [
            "best learning rate: 0.01\n",
            "best model lambda: 0.09645770933126553\n",
            "The performance boost after 20 iteration is : 291.0 %\n"
          ],
          "name": "stdout"
        },
        {
          "output_type": "display_data",
          "data": {
            "image/png": "[encoded data removed]",
            "text/plain": [
              "<Figure size 720x360 with 2 Axes>"
            ]
          },
          "metadata": {
            "tags": []
          }
        }
      ]
    },
    {
      "cell_type": "code",
      "metadata": {
        "id": "IkdzfQ0GX_oB",
        "colab_type": "code",
        "outputId": "8db731a5-ece0-4c2f-de5e-3f4bc06d337d",
        "colab": {
          "base_uri": "https://localhost:8080/",
          "height": 1000
        }
      },
      "source": [
        "## Neural net with optimal hyperparameters\n",
        "model_lambda = best_hyperparameters[1]\n",
        "keep_prob1 = .8    \n",
        "hidden_dim = 100\n",
        "\n",
        "neural_net = DeepVariationalDropout(nb_features, hidden_dim, 1, keep_prob, model_lambda).cuda()\n",
        "\n",
        "criterion = nn.MSELoss()  \n",
        "optimizer = optim.Adam(neural_net.parameters(), lr=best_hyperparameters[0])\n",
        "\n",
        "losses = []\n",
        "# Training\n",
        "epochs = 35000\n",
        "\n",
        "for i in range(epochs):\n",
        "    # Zero the gradients before running the backward pass.\n",
        "    neural_net.zero_grad()\n",
        "\n",
        "    # Forward propagation\n",
        "    out = neural_net(x_train_tensor).squeeze(-1)\n",
        "    rmse =  criterion(y_train_tensor,out)\n",
        "    loss = rmse + neural_net.regularization\n",
        "    # Backward pass: compute gradient of the loss with respect to all the learnable\n",
        "    # parameters of the model. Internally, the parameters of each Module are stored\n",
        "    # in Tensors with requires_grad=Trupae, so this call will compute gradients for\n",
        "    # all learnable parameters in the model.\n",
        "    loss.backward(retain_graph=True)\n",
        "    losses.append(loss.item())\n",
        "    if i % 500 == 0:\n",
        "            print(\"[iteration %04d] loss: %.4f\" % (i, loss ))\n",
        "\n",
        "    # Update the weights using gradient descent. Each parameter is a Tensor, so\n",
        "    # we can access its gradients like we did before.\n",
        "    optimizer.step()\n",
        "\n"
      ],
      "execution_count": 0,
      "outputs": [
        {
          "output_type": "stream",
          "text": [
            "[iteration 0000] loss: 119977008955392.0000\n",
            "[iteration 0500] loss: 4019215104.0000\n",
            "[iteration 1000] loss: 957115456.0000\n",
            "[iteration 1500] loss: 3153921792.0000\n",
            "[iteration 2000] loss: 2985774848.0000\n",
            "[iteration 2500] loss: 710533632.0000\n",
            "[iteration 3000] loss: 6549208064.0000\n",
            "[iteration 3500] loss: 3532099328.0000\n",
            "[iteration 4000] loss: 600929536.0000\n",
            "[iteration 4500] loss: 96659000.0000\n",
            "[iteration 5000] loss: 49346140.0000\n",
            "[iteration 5500] loss: 89186600.0000\n",
            "[iteration 6000] loss: 92634040.0000\n",
            "[iteration 6500] loss: 5767484.0000\n",
            "[iteration 7000] loss: 262481392.0000\n",
            "[iteration 7500] loss: 126449272.0000\n",
            "[iteration 8000] loss: 11610523.0000\n",
            "[iteration 8500] loss: 73583976.0000\n",
            "[iteration 9000] loss: 5863589.0000\n",
            "[iteration 9500] loss: 3143848.2500\n",
            "[iteration 10000] loss: 15247931.0000\n",
            "[iteration 10500] loss: 2565799.7500\n",
            "[iteration 11000] loss: 1553518.1250\n",
            "[iteration 11500] loss: 15457835.0000\n",
            "[iteration 12000] loss: 4331177.0000\n",
            "[iteration 12500] loss: 1234528.0000\n",
            "[iteration 13000] loss: 1270241.0000\n",
            "[iteration 13500] loss: 952520.0000\n",
            "[iteration 14000] loss: 1396181.3750\n",
            "[iteration 14500] loss: 1948766.8750\n",
            "[iteration 15000] loss: 653003.5000\n",
            "[iteration 15500] loss: 702479.8750\n",
            "[iteration 16000] loss: 659396.0000\n",
            "[iteration 16500] loss: 809680.7500\n",
            "[iteration 17000] loss: 513919.4062\n",
            "[iteration 17500] loss: 653964.1250\n",
            "[iteration 18000] loss: 680608.4375\n",
            "[iteration 18500] loss: 362667.3125\n",
            "[iteration 19000] loss: 1180992.2500\n",
            "[iteration 19500] loss: 509273.8125\n",
            "[iteration 20000] loss: 343097.2812\n",
            "[iteration 20500] loss: 537775.7500\n",
            "[iteration 21000] loss: 571009.1875\n",
            "[iteration 21500] loss: 345045.4062\n",
            "[iteration 22000] loss: 360443.7812\n",
            "[iteration 22500] loss: 654006.3125\n",
            "[iteration 23000] loss: 253761.8125\n",
            "[iteration 23500] loss: 218354.8594\n",
            "[iteration 24000] loss: 531865.1875\n",
            "[iteration 24500] loss: 548490.2500\n",
            "[iteration 25000] loss: 493469.0625\n",
            "[iteration 25500] loss: 281905.7500\n",
            "[iteration 26000] loss: 481153.6875\n",
            "[iteration 26500] loss: 216443.8594\n",
            "[iteration 27000] loss: 642701.0625\n",
            "[iteration 27500] loss: 146029.2500\n",
            "[iteration 28000] loss: 254657.2969\n",
            "[iteration 28500] loss: 355619.3438\n",
            "[iteration 29000] loss: 318305.8125\n",
            "[iteration 29500] loss: 366778.2812\n",
            "[iteration 30000] loss: 135420.8281\n",
            "[iteration 30500] loss: 272412.5000\n",
            "[iteration 31000] loss: 103372.5156\n",
            "[iteration 31500] loss: 80770.4375\n",
            "[iteration 32000] loss: 177478.3750\n",
            "[iteration 32500] loss: 82317.5703\n",
            "[iteration 33000] loss: 57054.4766\n",
            "[iteration 33500] loss: 17347.1777\n",
            "[iteration 34000] loss: 68553.9844\n",
            "[iteration 34500] loss: 6120.8921\n"
          ],
          "name": "stdout"
        }
      ]
    },
    {
      "cell_type": "code",
      "metadata": {
        "id": "7FlhHLOXd018",
        "colab_type": "code",
        "outputId": "dd6a8fc2-638f-45f1-b621-81f7b2c9189d",
        "colab": {
          "base_uri": "https://localhost:8080/",
          "height": 286
        }
      },
      "source": [
        "cost = np.array(losses[15000:])    \n",
        "t = np.arange(epochs-15000)    \n",
        "plt.plot(t,cost) "
      ],
      "execution_count": 0,
      "outputs": [
        {
          "output_type": "execute_result",
          "data": {
            "text/plain": [
              "[<matplotlib.lines.Line2D at 0x7f249adbdeb8>]"
            ]
          },
          "metadata": {
            "tags": []
          },
          "execution_count": 79
        },
        {
          "output_type": "display_data",
          "data": {
            "image/png": "[encoded data removed]",
            "text/plain": [
              "<Figure size 432x288 with 1 Axes>"
            ]
          },
          "metadata": {
            "tags": []
          }
        }
      ]
    },
    {
      "cell_type": "code",
      "metadata": {
        "id": "sW4RPauJnSoa",
        "colab_type": "code",
        "colab": {}
      },
      "source": [
        "\n",
        "######### Evaluate the model\n",
        "# Those utility functions are going to be used further the line to evaluate the predictions.\n",
        "def picp(y, y_lower, y_upper):\n",
        "    batch_size = len(y)\n",
        "    k = np.zeros(batch_size)\n",
        "    for i in range(batch_size):\n",
        "        k[i] = y_lower[i] <= y[i] <= y_upper[i]\n",
        "    return np.mean(k)\n",
        "\n",
        "def mpiw(y_lower, y_upper):\n",
        "    return np.mean(y_upper-y_lower)\n",
        "    \n",
        "def EmpiricalDistribution(x_data, model, num_sample):\n",
        "    predictions = torch.zeros((num_sample, len(x_data)))\n",
        "    for i in range(num_sample):\n",
        "        prediction_mean = model(x_data)\n",
        "        predictions[i] = prediction_mean.squeeze(-1)\n",
        "    return predictions   \n"
      ],
      "execution_count": 0,
      "outputs": []
    },
    {
      "cell_type": "markdown",
      "metadata": {
        "id": "RK_GeXEiwH4P",
        "colab_type": "text"
      },
      "source": [
        "It is very likely that you will need to save the neural network and evaluate it locally if the dataset is year prediction msd. Otherwise you can skip this command and direclty evaluate the model."
      ]
    },
    {
      "cell_type": "code",
      "metadata": {
        "id": "CLG-Ya_PaJoZ",
        "colab_type": "code",
        "colab": {}
      },
      "source": [
        "torch.save(neural_net, 'neural_net')"
      ],
      "execution_count": 0,
      "outputs": []
    },
    {
      "cell_type": "markdown",
      "metadata": {
        "id": "n5nAnaT_wgvN",
        "colab_type": "text"
      },
      "source": [
        "#Model evaluation\n",
        "We run the weights comming from the posterior 1000 times and we organize the predictions toward the 2.5th, 50th and 97.5th percentiles to get a 95% prediction interval. We also use a variable `interval_def`  to evaluate the thickness of the mean prediction interval width."
      ]
    },
    {
      "cell_type": "code",
      "metadata": {
        "id": "AUBabrR98c3s",
        "colab_type": "code",
        "colab": {}
      },
      "source": [
        "num_sample = 1000\n",
        "predictions = EmpiricalDistribution(x_test_tensor,neural_net,num_sample)\n",
        "predictions = predictions.detach().cpu().numpy()\n",
        "\n",
        "\n",
        "marginal_site = pd.DataFrame(predictions).transpose()\n",
        "describe = partial(pd.Series.describe, percentiles=[.025, 0.5, 0.975])\n",
        "summary = marginal_site.apply(describe, axis=1)[[\"mean\", \"std\", \"2.5%\", \"50%\", \"97.5%\"]]\n",
        "\n",
        "y_test_lower = np.array(summary['2.5%'])\n",
        "y_test_upper = np.array(summary['97.5%'])\n",
        "y_test_mean =  np.array(summary['mean'])\n",
        "\n",
        "proba_coverage_test = picp(y_test, y_test_lower, y_test_upper)\n",
        "interval_predicted_test = mpiw(y_test_lower, y_test_upper)\n",
        "rmse_test = np.mean(np.sqrt(np.power((y_test_mean-y_test),2)))\n",
        "\n",
        "interval_def = np.max(y) - np.min(y)\n"
      ],
      "execution_count": 0,
      "outputs": []
    },
    {
      "cell_type": "code",
      "metadata": {
        "id": "Goq48N4geltD",
        "colab_type": "code",
        "outputId": "48e01f1e-c471-4628-debd-b2a3dd8c2684",
        "colab": {
          "base_uri": "https://localhost:8080/",
          "height": 86
        }
      },
      "source": [
        "print(\"{} dataset\".format(name))\n",
        "print(\"Prediction Interval Coverage Probability (PICP): {}\".format(proba_coverage_test))\n",
        "print(\"Mean Prediction Interval Width (MPIW): {}\".format(interval_predicted_test))\n",
        "print(\"Natural Interval Width of Data: {}\".format(interval_def))\n",
        "print(\"Root Mean Square Error (RMSE): {}\".format(rmse_test))"
      ],
      "execution_count": 0,
      "outputs": [
        {
          "output_type": "stream",
          "text": [
            "Prediction Interval Coverage Probability (PICP): 0.970873786407767\n",
            "Mean Prediction Interval Width (MPIW): 56.19294536875434\n",
            "Natural Interval Width of Data: 80.27\n",
            "Root Mean Square Error (RMSE): 10.066825774109478\n"
          ],
          "name": "stdout"
        }
      ]
    },
    {
      "cell_type": "code",
      "metadata": {
        "id": "OgSXAB0wdhyK",
        "colab_type": "code",
        "colab": {}
      },
      "source": [
        ""
      ],
      "execution_count": 0,
      "outputs": []
    }
  ]
}